{
 "cells": [
  {
   "cell_type": "markdown",
   "metadata": {
    "deletable": false,
    "editable": false,
    "nbgrader": {
     "cell_type": "markdown",
     "checksum": "fcd8eb18b195d7647f8cc7642c1caee3",
     "grade": false,
     "grade_id": "cell-88ce52fdb06971f9",
     "locked": true,
     "schema_version": 3,
     "solution": false,
     "task": false
    }
   },
   "source": [
    "Cells that must be completed to receive marks are labelled like this:\n",
    "\n",
    "`# -- GRADED CELL (1 mark) - complete this cell --`\n",
    "\n",
    "Some graded cells are code cells, in which you must complete the code to solve a problem. Other graded cells are markdown cells, in which you must write your answers to short-answer questions. \n",
    "\n",
    "You will see the following text in graded code cells:\n",
    "\n",
    "```\n",
    "# YOUR CODE HERE\n",
    "raise NotImplementedError()\n",
    "```\n",
    "\n",
    "***You must remove the `raise NotImplementedError()` line from the cell, and replace it with your solution.***\n"
   ]
  },
  {
   "cell_type": "markdown",
   "metadata": {
    "deletable": false,
    "editable": false,
    "nbgrader": {
     "cell_type": "markdown",
     "checksum": "cc5f569823cc185882286860253fab51",
     "grade": false,
     "grade_id": "cell-5d26126e3ec5ec6d",
     "locked": true,
     "schema_version": 3,
     "solution": false,
     "task": false
    }
   },
   "source": [
    "Before you turn this problem in, make sure everything runs as expected. First, **restart the kernel** (in the menubar, select Kernel$\\rightarrow$Restart) and then **run all cells** (in the menubar, select Cell$\\rightarrow$Run All).\n",
    "\n",
    "Make sure you fill in any place that says `YOUR CODE HERE` or \"YOUR ANSWER HERE\", as well as your name and student ID number below:"
   ]
  },
  {
   "cell_type": "code",
   "execution_count": null,
   "metadata": {},
   "outputs": [],
   "source": [
    "NAME = \"Jiayu Wang\"\n",
    "ID = \"1039580\""
   ]
  },
  {
   "cell_type": "markdown",
   "metadata": {
    "deletable": false,
    "editable": false,
    "nbgrader": {
     "cell_type": "markdown",
     "checksum": "4189b61705c4f76064f1744fff1347a4",
     "grade": false,
     "grade_id": "cell-668d0d1e4abe9939",
     "locked": true,
     "schema_version": 3,
     "solution": false,
     "task": false
    }
   },
   "source": [
    "# COMP90014 Assignment 1\n",
    "### Semester 2, 2021"
   ]
  },
  {
   "cell_type": "markdown",
   "metadata": {
    "deletable": false,
    "editable": false,
    "nbgrader": {
     "cell_type": "markdown",
     "checksum": "433886bc37dd3c0d4b13b0f2a3477454",
     "grade": false,
     "grade_id": "cell-eda5ebdd051e15ee",
     "locked": true,
     "schema_version": 3,
     "solution": false,
     "task": false
    }
   },
   "source": [
    "This assignment should be completed by each student individually. Make sure you read this entire document, and ask for help if anything is not clear. Any changes or clarifications to this document will be announced via the LMS.\n",
    "\n",
    "Please make sure you review the University's rules on academic honesty and plagiarism: https://academichonesty.unimelb.edu.au/\n",
    "\n",
    "Do not copy any code from other students or from the internet. This is considered plagiarism.\n",
    "\n",
    "To complete the assignment, finish the tasks in this notebook.\n",
    "\n",
    "The tasks are a combination of writing your own code, interpreting the results and answering related short-answer questions.\n",
    "\n",
    "In some cases, we have provided test input and test output that you can use to try out your solutions. These tests are just samples and are **not** exhaustive - they may warn you if you've made a mistake, but they are not guaranteed to. It's up to you to decide whether your code is correct."
   ]
  },
  {
   "cell_type": "markdown",
   "metadata": {
    "deletable": false,
    "editable": false,
    "nbgrader": {
     "cell_type": "markdown",
     "checksum": "b45097fcb4d16f1d3d3e2de36353b214",
     "grade": false,
     "grade_id": "cell-9ff7f314ef4e83a9",
     "locked": true,
     "schema_version": 3,
     "solution": false,
     "task": false
    }
   },
   "source": [
    "### Completing the assignment\n",
    "\n",
    "You will need to finish the tasks in this notebook.\n",
    "\n",
    "You must not call functions from external packages that implement parts of the algorithms we have asked you to write.\n",
    "\n",
    "The tasks are a combination of writing your own implementations of algorithms we've discussed in lectures and interpreting the results in short answer format.\n",
    "\n",
    "In some case, we have provided test input and test output that you can use to try out your solutions. These tests are just samples and are not exhaustive - they may warn you if you've made a mistake, but they are not guaranteed to. It's up to you to decide whether your code is correct."
   ]
  },
  {
   "cell_type": "markdown",
   "metadata": {
    "deletable": false,
    "editable": false,
    "nbgrader": {
     "cell_type": "markdown",
     "checksum": "2d72eb3a13bfebc94ce5cbd8ce167c03",
     "grade": false,
     "grade_id": "cell-4f49be3f5efa74fd",
     "locked": true,
     "schema_version": 3,
     "solution": false,
     "task": false
    }
   },
   "source": [
    "### Submitting your work\n",
    "\n",
    "Your completed notebook file containing all your answers must be turned in via LMS in `.ipynb` format.\n",
    "You must also submit a file in `html` format with the output cleared.\n",
    "You can do this by using the `Clear all output` option in the menu.\n"
   ]
  },
  {
   "cell_type": "markdown",
   "metadata": {
    "deletable": false,
    "editable": false,
    "nbgrader": {
     "cell_type": "markdown",
     "checksum": "3370df923ca1450ac4dbf5bdce185258",
     "grade": false,
     "grade_id": "cell-ed314762b63dd455",
     "locked": true,
     "schema_version": 3,
     "solution": false,
     "task": false
    }
   },
   "source": [
    "### Marking\n",
    "\n",
    "Only modify graded cells. If you want to write a helper function, do it in a graded cell.\n",
    "\n",
    "Word limits, where stated, will be strictly enforced. Answers exceeding the limit **will not be marked**.\n",
    "\n",
    "No marks are allocated to commenting in your code. We do however, encourage efficient and well commented code.\n"
   ]
  },
  {
   "cell_type": "markdown",
   "metadata": {
    "deletable": false,
    "editable": false,
    "nbgrader": {
     "cell_type": "markdown",
     "checksum": "72a6a69d081bcbe3e7183e21068b8aa2",
     "grade": false,
     "grade_id": "cell-4ff1f7493b4a5c37",
     "locked": true,
     "schema_version": 3,
     "solution": false,
     "task": false
    }
   },
   "source": [
    "### Background and data\n",
    "During this assignment we will analyse the relationship between 17 organisms. \n",
    "Understanding the genetic and evolutionary relationship between organisms is a core task in bioinformatics. \n",
    "This type of phylogenetic analysis can be performed by comparing the sequence differences of a particular gene between the organisms.\n",
    "All organisms must possess the gene in question for comparison to be possible.  \n",
    "\n",
    "As all organisms possess genes to make ribosomes, these will be used in this assignment.\n",
    "A 100bp segment of the small ribosomal subunit gene has been extracted from each of these 17 organisms, and will act as our sequences for comparison.\n",
    "\n",
    "In the first section, we will calculate distances between these organisms and visualise.\n",
    "In the second section, we will use clustering algorithms to group organisms.\n",
    "\n",
    "At each step of the process you will be asked to fill out short answer questions to demonstrate your understanding of the concepts."
   ]
  },
  {
   "cell_type": "markdown",
   "metadata": {
    "deletable": false,
    "editable": false,
    "nbgrader": {
     "cell_type": "markdown",
     "checksum": "cb22d8782d1195550b3d7b10e3cdd1e3",
     "grade": false,
     "grade_id": "cell-c383692bb98bbec8",
     "locked": true,
     "schema_version": 3,
     "solution": false,
     "task": false
    }
   },
   "source": [
    "### Import packages\n",
    "If you are using jupyter lab online, all packages will be available. If you are running this on your local computer, you may need to install some packages."
   ]
  },
  {
   "cell_type": "code",
   "execution_count": null,
   "metadata": {},
   "outputs": [],
   "source": [
    "import numpy as np\n",
    "import scipy\n",
    "import pandas as pd\n",
    "import sklearn\n",
    "import seaborn\n",
    "import matplotlib.pyplot as plt\n",
    "%matplotlib inline"
   ]
  },
  {
   "cell_type": "markdown",
   "metadata": {},
   "source": [
    "### Importing data\n",
    "To begin, we need to understand the data.\n",
    "The ribosome genes are provided in a .fasta file called 'ribosome_genes.fasta'. You can have a look if you like.\n",
    "These genes will be imported as classes (RibosomeGene). \n",
    "\n",
    "Each RibosomeGene object has a name, accession, sequence and length.\n",
    "You can access these properties using '.' syntax. (see below). \n",
    "\n",
    "Try to think of each gene as something physical, rather than code.\n",
    "In real life, each gene has a .length, its organism has a .name, and it has a .sequence. We can write code in this way too. \n",
    "\n",
    "we will import these into **ribosome_genes**, which is a list of our genes."
   ]
  },
  {
   "cell_type": "code",
   "execution_count": null,
   "metadata": {},
   "outputs": [],
   "source": [
    "import warnings\n",
    "warnings.filterwarnings('ignore')\n",
    "\n",
    "from utilities import import_16s_sequences\n",
    "ribosome_genes = import_16s_sequences()"
   ]
  },
  {
   "cell_type": "code",
   "execution_count": null,
   "metadata": {},
   "outputs": [],
   "source": [
    "print('{:<20}{:<30}{:<15}{:<10}'.format(\n",
    "    'gene.accession',\n",
    "    'gene.name',\n",
    "    'gene.length',\n",
    "    'gene.sequence'))\n",
    "\n",
    "for gene in ribosome_genes:\n",
    "    print('{:<20}{:<30}{:<15}{:<10}'.format(\n",
    "        gene.accession,\n",
    "        gene.name[:27],\n",
    "        gene.length,\n",
    "        gene.sequence[:8] + '...'))"
   ]
  },
  {
   "cell_type": "markdown",
   "metadata": {},
   "source": [
    "# SECTION 1: PAIRWISE DISTANCES\n",
    "\n",
    "To be able to compare organisms via their sequences, we need a way to measure their difference as a distance. "
   ]
  },
  {
   "cell_type": "markdown",
   "metadata": {},
   "source": [
    "## TASK 1: K-mer distance\n",
    "\n",
    "The kmer distance between two sequences is defined here as the total number of k-mers that are unique to either sequence.<br>\n",
    "\n",
    "i.e. If seq1 has 3 unique kmers not found in seq2 (copy number difference also matters), and seq2 has 2 unique kmers, the kmer distance in this assignment is 5.  \n",
    "\n",
    "Write a function that calculates a dictionary of k-mers (for k = any number) and their counts for each gene sequence."
   ]
  },
  {
   "cell_type": "code",
   "execution_count": null,
   "metadata": {
    "deletable": false,
    "nbgrader": {
     "cell_type": "code",
     "checksum": "322e6d8d03811feeec88609723fd37e0",
     "grade": false,
     "grade_id": "cell-d0dc58deb088bffa",
     "locked": false,
     "schema_version": 3,
     "solution": true,
     "task": false
    }
   },
   "outputs": [],
   "source": [
    "# -- GRADED CELL (2 marks) - complete this cell --\n",
    "\n",
    "def create_kmer_dictionary(seq, k):\n",
    "    '''\n",
    "    Write a function which stores kmers, and their counts from a given input seq. \n",
    "    The kmer size == k \n",
    "    '''\n",
    "    dic = {}\n",
    "    length = len(seq)\n",
    "    if k <= length and k != 0:\n",
    "        \n",
    "        for a in range(0,length - k + 1):\n",
    "            if seq[a:a+k] in dic:\n",
    "                dic[seq[a:a+k]] += 1\n",
    "            else:\n",
    "                dic[seq[a:a+k]] = 1\n",
    "        \n",
    "    return dic\n",
    "    "
   ]
  },
  {
   "cell_type": "code",
   "execution_count": null,
   "metadata": {
    "deletable": false,
    "editable": false,
    "nbgrader": {
     "cell_type": "code",
     "checksum": "6f9e51209fefed34e5a276ff4cdd5630",
     "grade": true,
     "grade_id": "cell-6bf8c3e49f8c9d68",
     "locked": true,
     "points": 1,
     "schema_version": 3,
     "solution": false,
     "task": false
    }
   },
   "outputs": [],
   "source": [
    "assert create_kmer_dictionary(\"AGAATATAACACACAA\", 1) == {'A': 10, 'G': 1, 'T': 2, 'C': 3}"
   ]
  },
  {
   "cell_type": "code",
   "execution_count": null,
   "metadata": {
    "deletable": false,
    "editable": false,
    "nbgrader": {
     "cell_type": "code",
     "checksum": "664f5e77db529be2a151097e4ab8e7d3",
     "grade": true,
     "grade_id": "cell-f28f6120237b7969",
     "locked": true,
     "points": 1,
     "schema_version": 3,
     "solution": false,
     "task": false
    }
   },
   "outputs": [],
   "source": []
  },
  {
   "cell_type": "code",
   "execution_count": null,
   "metadata": {
    "deletable": false,
    "nbgrader": {
     "cell_type": "code",
     "checksum": "9af21b8ccaf30fb69b2d24000e1eed91",
     "grade": false,
     "grade_id": "cell-05729c16e5a08e87",
     "locked": false,
     "schema_version": 3,
     "solution": true,
     "task": false
    }
   },
   "outputs": [],
   "source": [
    "# -- GRADED CELL (2 marks) - complete this cell --\n",
    "\n",
    "def calculate_total_unique_kmers(kmers1, kmers2):\n",
    "    '''\n",
    "    Given two kmer occurance dictionaries, compute the sum of\n",
    "    the differences in kmer frequencies.\n",
    "    '''\n",
    "    unique_kmers = 0\n",
    "    for kmer in kmers1:\n",
    "        if kmer in kmers2:\n",
    "            if kmers1[kmer] != kmers2[kmer]:\n",
    "                unique_kmers += (abs(kmers1[kmer] - kmers2[kmer]))\n",
    "            else:\n",
    "                pass\n",
    "        else:\n",
    "            unique_kmers += kmers1[kmer]\n",
    "    for kmer in kmers2:\n",
    "        if kmer in kmers1:\n",
    "            continue\n",
    "        else:\n",
    "            unique_kmers += kmers2[kmer]\n",
    "    \n",
    "    return unique_kmers\n"
   ]
  },
  {
   "cell_type": "code",
   "execution_count": null,
   "metadata": {
    "deletable": false,
    "editable": false,
    "nbgrader": {
     "cell_type": "code",
     "checksum": "1559dd248b619814ac4cfeeae91737b1",
     "grade": true,
     "grade_id": "cell-88a9c0094b195e99",
     "locked": true,
     "points": 1,
     "schema_version": 3,
     "solution": false,
     "task": false
    }
   },
   "outputs": [],
   "source": [
    "assert calculate_total_unique_kmers(\n",
    "    {'A': 10, 'G': 1, 'T': 2, 'C': 3},\n",
    "    {'A': 1, 'G': 10, 'T': 1, 'C': 3}) == 19"
   ]
  },
  {
   "cell_type": "code",
   "execution_count": null,
   "metadata": {
    "deletable": false,
    "editable": false,
    "nbgrader": {
     "cell_type": "code",
     "checksum": "4526eb5b2745ec8840c3755c1c4bb612",
     "grade": true,
     "grade_id": "cell-8378e196a5e1e8c0",
     "locked": true,
     "points": 1,
     "schema_version": 3,
     "solution": false,
     "task": false
    }
   },
   "outputs": [],
   "source": []
  },
  {
   "cell_type": "markdown",
   "metadata": {},
   "source": [
    "Write a function that uses the above two functions to calcualte the k-mer distance of two sequences"
   ]
  },
  {
   "cell_type": "code",
   "execution_count": null,
   "metadata": {
    "deletable": false,
    "nbgrader": {
     "cell_type": "code",
     "checksum": "38d41c2fbcf84f4b08f7452c7e96e247",
     "grade": false,
     "grade_id": "cell-6363be676492d783",
     "locked": false,
     "schema_version": 3,
     "solution": true,
     "task": false
    }
   },
   "outputs": [],
   "source": [
    "# -- GRADED CELL (2 marks) - complete this cell --\n",
    "\n",
    "def kmer_distance(seq1, seq2, k):\n",
    "    '''\n",
    "    For two input sequences, find their kmer distance.\n",
    "    Use the create_kmer_dictionary and calculate_total_unique_kmers\n",
    "    functions you have written previously. \n",
    "    '''\n",
    "    dic1 = create_kmer_dictionary(seq1, k)\n",
    "    dic2 = create_kmer_dictionary(seq2, k)\n",
    "    \n",
    "    distance =  calculate_total_unique_kmers(dic1, dic2)\n",
    "    \n",
    "    return distance\n"
   ]
  },
  {
   "cell_type": "markdown",
   "metadata": {},
   "source": [
    "Let's check our function. We can use the first two entries in the 'ribosome_genes' list.\n",
    "If implemented correctly, the following should return 86."
   ]
  },
  {
   "cell_type": "code",
   "execution_count": null,
   "metadata": {
    "deletable": false,
    "editable": false,
    "nbgrader": {
     "cell_type": "code",
     "checksum": "f366baeffc6c8f9db93537aaebe4e0c8",
     "grade": true,
     "grade_id": "cell-7ad3af6ae45a6f77",
     "locked": true,
     "points": 1,
     "schema_version": 3,
     "solution": false,
     "task": false
    }
   },
   "outputs": [],
   "source": [
    "print(kmer_distance(ribosome_genes[0].sequence,\n",
    "                    ribosome_genes[1].sequence, 8))\n",
    "\n",
    "assert kmer_distance(\n",
    "    ribosome_genes[0].sequence,\n",
    "    ribosome_genes[1].sequence,\n",
    "    8) == 86"
   ]
  },
  {
   "cell_type": "code",
   "execution_count": null,
   "metadata": {
    "deletable": false,
    "editable": false,
    "nbgrader": {
     "cell_type": "code",
     "checksum": "aef54733b27531b9d62cfcb80936c83e",
     "grade": true,
     "grade_id": "cell-75605b39ef071e70",
     "locked": true,
     "points": 1,
     "schema_version": 3,
     "solution": false,
     "task": false
    }
   },
   "outputs": [],
   "source": []
  },
  {
   "cell_type": "markdown",
   "metadata": {},
   "source": [
    "## TASK 2: Smith-Waterman alignment\n",
    "Another way to compare the similarity of two sequences is through alignment.\n",
    "The alignment score of two sequences will be high when they are similar, and low when they are distinct. "
   ]
  },
  {
   "cell_type": "markdown",
   "metadata": {},
   "source": [
    "Write a function that initialises and returns a scoregrid for two sequences.\n",
    "\n",
    "Keep in mind the matrix must be 1 element larger than the sequence lengths. Consider whether indel scores for the first row and column need to be filled in."
   ]
  },
  {
   "cell_type": "code",
   "execution_count": null,
   "metadata": {
    "deletable": false,
    "nbgrader": {
     "cell_type": "code",
     "checksum": "41840e7eda3e4ec56a62d8fa04cd9052",
     "grade": false,
     "grade_id": "cell-134c55900bb100c0",
     "locked": false,
     "schema_version": 3,
     "solution": true,
     "task": false
    }
   },
   "outputs": [],
   "source": [
    "# -- GRADED CELL (1 mark) - complete this cell --\n",
    "\n",
    "import numpy as np\n",
    "\n",
    "def init_scoregrid(seq1, seq2):\n",
    "    '''\n",
    "    Given two sequences, initialise a scoregrid to be used for smith-waterman alignment.\n",
    "    '''\n",
    "    \n",
    "    X = len(seq1) + 1\n",
    "    Y = len(seq2) + 1\n",
    "    scoregrid = np.zeros((X,Y), int)\n",
    "    \n",
    "    return scoregrid"
   ]
  },
  {
   "cell_type": "code",
   "execution_count": null,
   "metadata": {
    "deletable": false,
    "editable": false,
    "nbgrader": {
     "cell_type": "code",
     "checksum": "5562e075a411e50f2c6c169bad9b4e0f",
     "grade": true,
     "grade_id": "cell-c8b8c69747e9cea7",
     "locked": true,
     "points": 1,
     "schema_version": 3,
     "solution": false,
     "task": false
    }
   },
   "outputs": [],
   "source": [
    "# Print the initialised scoregrid\n",
    "print(init_scoregrid('croissant', 'crescent'))\n"
   ]
  },
  {
   "cell_type": "markdown",
   "metadata": {},
   "source": [
    "Write a function that populates the scoregrid. It accepts two sequences, a scoregrid and match/mismatch and indel scores. "
   ]
  },
  {
   "cell_type": "code",
   "execution_count": null,
   "metadata": {
    "deletable": false,
    "nbgrader": {
     "cell_type": "code",
     "checksum": "7471b9d556513a513ea83a0c52218d50",
     "grade": false,
     "grade_id": "cell-189883c7ca25def8",
     "locked": false,
     "schema_version": 3,
     "solution": true,
     "task": false
    }
   },
   "outputs": [],
   "source": [
    "# -- GRADED CELL (2 marks) - complete this cell --\n",
    "\n",
    "def calculate_scoregrid(seq1,\n",
    "                        seq2,\n",
    "                        scoregrid,\n",
    "                        match_score=1,\n",
    "                        mismatch_score=-4,\n",
    "                        indel_score=-4):\n",
    "    '''\n",
    "        Given two sequences and an initialised scoregrid,\n",
    "        fill in the cumulative alignment scores for each cell.\n",
    "    '''\n",
    "    \n",
    "    X = len(seq1) + 1\n",
    "    Y = len(seq2) + 1\n",
    "    for x in range(1,X):\n",
    "        for y in range(1,Y):\n",
    "            if seq1[x-1] == seq2[y-1]: \n",
    "                diag = match_score\n",
    "            else:\n",
    "                diag = mismatch_score\n",
    "            \n",
    "            scoregrid[x,y] = max(scoregrid[x-1,y-1] + diag,\n",
    "                                scoregrid[x-1,y] + indel_score, \n",
    "                                scoregrid[x,y-1] + indel_score,\n",
    "                                0)\n",
    "    \n",
    "    return scoregrid"
   ]
  },
  {
   "cell_type": "code",
   "execution_count": null,
   "metadata": {},
   "outputs": [],
   "source": [
    "scoregrid = init_scoregrid('cello', 'helllo')\n",
    "print(calculate_scoregrid('cello', 'helllo', scoregrid))"
   ]
  },
  {
   "cell_type": "code",
   "execution_count": null,
   "metadata": {
    "deletable": false,
    "editable": false,
    "nbgrader": {
     "cell_type": "code",
     "checksum": "8d27378b99ab84d78b2907eb48b916e9",
     "grade": true,
     "grade_id": "cell-9d004acf8fedd265",
     "locked": true,
     "points": 2,
     "schema_version": 3,
     "solution": false,
     "task": false
    }
   },
   "outputs": [],
   "source": []
  },
  {
   "cell_type": "markdown",
   "metadata": {},
   "source": [
    "The last thing we need is to get the alignment score from the scoregrid. \n",
    "Write a function that returns an alignment score (Smith-Waterman style, local alignment) from a scoregrid"
   ]
  },
  {
   "cell_type": "code",
   "execution_count": null,
   "metadata": {
    "deletable": false,
    "nbgrader": {
     "cell_type": "code",
     "checksum": "68bd438259fcd8669124a5c4cdd8c9f5",
     "grade": false,
     "grade_id": "cell-b7c172f634ba1843",
     "locked": false,
     "schema_version": 3,
     "solution": true,
     "task": false
    }
   },
   "outputs": [],
   "source": [
    "# -- GRADED CELL (1 marks) - complete this cell --\n",
    "\n",
    "def report_alignment_score(scoregrid):\n",
    "    ''' \n",
    "        Given a completed scoregrid, return the smith-waterman alignment score.\n",
    "    '''\n",
    "    sw_alignment_score = np.max(scoregrid)\n",
    "    \n",
    "    return sw_alignment_score"
   ]
  },
  {
   "cell_type": "code",
   "execution_count": null,
   "metadata": {
    "deletable": false,
    "editable": false,
    "nbgrader": {
     "cell_type": "code",
     "checksum": "38660f213f63cddb641dac685f16f76b",
     "grade": true,
     "grade_id": "cell-490119fa9bb9f563",
     "locked": true,
     "points": 1,
     "schema_version": 3,
     "solution": false,
     "task": false
    }
   },
   "outputs": [],
   "source": []
  },
  {
   "cell_type": "markdown",
   "metadata": {},
   "source": [
    "Ok! now we're ready to put it all together. <br>\n",
    "Fill in the function below with the three functions you wrote to calculate the alignment score of two sequences"
   ]
  },
  {
   "cell_type": "code",
   "execution_count": null,
   "metadata": {
    "deletable": false,
    "nbgrader": {
     "cell_type": "code",
     "checksum": "6033a91f280b40ef19b26b41d3de0c67",
     "grade": false,
     "grade_id": "cell-ded9f4dce0c9c841",
     "locked": false,
     "schema_version": 3,
     "solution": true,
     "task": false
    }
   },
   "outputs": [],
   "source": [
    "# -- GRADED CELL (1 marks) - complete this cell --\n",
    "\n",
    "def smith_waterman(seq1, seq2):\n",
    "    '''\n",
    "        Given two sequences, perform smith-waterman\n",
    "        alignment score calculation. Use the init_scoregrid,\n",
    "        calculate_scoregrid, and report_alignment_score functions\n",
    "        you have written.\n",
    "    '''\n",
    "    scoregrid = init_scoregrid(seq1, seq2)\n",
    "    scoregrid = calculate_scoregrid(seq1,\n",
    "                        seq2,\n",
    "                        scoregrid,\n",
    "                        match_score=1,\n",
    "                        mismatch_score=-4,\n",
    "                        indel_score=-4)\n",
    "    alignment_score = report_alignment_score(scoregrid)\n",
    "    return alignment_score\n"
   ]
  },
  {
   "cell_type": "code",
   "execution_count": null,
   "metadata": {
    "deletable": false,
    "editable": false,
    "nbgrader": {
     "cell_type": "code",
     "checksum": "7e702a3c2a6b71b4dcf10bfc83385f40",
     "grade": true,
     "grade_id": "cell-b2d493105b7b3d21",
     "locked": true,
     "points": 1,
     "schema_version": 3,
     "solution": false,
     "task": false
    }
   },
   "outputs": [],
   "source": []
  },
  {
   "cell_type": "markdown",
   "metadata": {},
   "source": [
    "## TASK 3: Pairwise distances"
   ]
  },
  {
   "cell_type": "markdown",
   "metadata": {},
   "source": [
    "We can now calculate the distance of two sequences using *k*-mer distance and the Smith-Waterman alignment score. \n",
    "Let's use these two methods to calculate the pairwise distance of our genes. "
   ]
  },
  {
   "cell_type": "markdown",
   "metadata": {},
   "source": [
    "Write a function which initialises and returns a distance matrix from a list of genes. \n",
    "Use a nested dictionary, where keys are `gene.accession`, and the values are all 0 for now. "
   ]
  },
  {
   "cell_type": "code",
   "execution_count": null,
   "metadata": {
    "deletable": false,
    "nbgrader": {
     "cell_type": "code",
     "checksum": "c70b148a1146ddc18978784c9964e513",
     "grade": false,
     "grade_id": "cell-c167537a9b7dda91",
     "locked": false,
     "schema_version": 3,
     "solution": true,
     "task": false
    }
   },
   "outputs": [],
   "source": [
    "# -- GRADED CELL (1 mark) - complete this cell --\n",
    "def init_distance_matrix(genes):\n",
    "    '''\n",
    "        For our list of genes, initialise a pairwise-distance matrix. Use accessions to denote genes. \n",
    "    '''\n",
    "    distance_matrix = {}\n",
    "    for g1 in genes:\n",
    "        distance_matrix[g1.accession] = {}\n",
    "        for g2 in genes:\n",
    "            distance_matrix[g1.accession][g2.accession] = 0\n",
    "    \n",
    "    return distance_matrix"
   ]
  },
  {
   "cell_type": "code",
   "execution_count": null,
   "metadata": {
    "deletable": false,
    "editable": false,
    "nbgrader": {
     "cell_type": "code",
     "checksum": "3fafec0b1a346b8dcb4f4bdaac42d5e1",
     "grade": true,
     "grade_id": "cell-2c57f1575376511f",
     "locked": true,
     "points": 1,
     "schema_version": 3,
     "solution": false,
     "task": false
    }
   },
   "outputs": [],
   "source": [
    "# Print initialised distance matrix\n",
    "from utilities import print_distance_matrix\n",
    "dm = init_distance_matrix(ribosome_genes)\n",
    "print_distance_matrix(dm)\n"
   ]
  },
  {
   "cell_type": "markdown",
   "metadata": {},
   "source": [
    "Time to fill in the matrix with distances.\n",
    "\n",
    "Write a function which calculates the pairwise distance of genes using kmer distance.\n",
    "You will need to call the 'kmer_distance' function you have written above. "
   ]
  },
  {
   "cell_type": "code",
   "execution_count": null,
   "metadata": {
    "deletable": false,
    "nbgrader": {
     "cell_type": "code",
     "checksum": "55a854812eabfcb51b08e75e323be47d",
     "grade": false,
     "grade_id": "cell-1d0872faadfe8c18",
     "locked": false,
     "schema_version": 3,
     "solution": true,
     "task": false
    }
   },
   "outputs": [],
   "source": [
    "# -- GRADED CELL (2 marks) - complete this cell --\n",
    "\n",
    "def calculate_kmer_distance_matrix(genes, matrix, k):\n",
    "    ''' \n",
    "    Using the initialised distance matrix, our list of genes, and your kmer_distance function,\n",
    "    populate the matrix with kmer distances between each pair of genes.\n",
    "    '''\n",
    "    for g1 in genes:\n",
    "        id1 = g1.accession\n",
    "        seq1 = g1.sequence\n",
    "        for g2 in genes:\n",
    "            id2 = g2.accession\n",
    "            seq2 = g2.sequence\n",
    "            matrix[id1][id2] = kmer_distance(seq1, seq2, k)\n",
    "    \n",
    "    return matrix\n"
   ]
  },
  {
   "cell_type": "code",
   "execution_count": null,
   "metadata": {
    "deletable": false,
    "editable": false,
    "nbgrader": {
     "cell_type": "code",
     "checksum": "ce2944c850faa84b22c180e55a8fd8e4",
     "grade": true,
     "grade_id": "cell-e3799a782c683084",
     "locked": true,
     "points": 2,
     "schema_version": 3,
     "solution": false,
     "task": false
    }
   },
   "outputs": [],
   "source": [
    "matrix = init_distance_matrix(ribosome_genes)\n",
    "calculate_kmer_distance_matrix(ribosome_genes, matrix, 20)\n"
   ]
  },
  {
   "cell_type": "markdown",
   "metadata": {},
   "source": [
    "Let's do the same as above, but this time use the Smith Waterman alignment distance function you wrote. "
   ]
  },
  {
   "cell_type": "code",
   "execution_count": null,
   "metadata": {
    "deletable": false,
    "nbgrader": {
     "cell_type": "code",
     "checksum": "21067ef622b8f9532b2e03b204900fdd",
     "grade": false,
     "grade_id": "cell-e40a575b8859fad4",
     "locked": false,
     "schema_version": 3,
     "solution": true,
     "task": false
    }
   },
   "outputs": [],
   "source": [
    "# -- GRADED CELL (1 marks) - complete this cell --\n",
    "\n",
    "def calculate_sw_alignment_distance_matrix(genes, matrix):\n",
    "    '''\n",
    "        Using the initialised distance matrix, our list of genes, and your smith_waterman function,\n",
    "        populate the matrix with smith-waterman alignment scores between each pair of genes. \n",
    "    '''\n",
    "    for g1 in genes:\n",
    "        id1 = g1.accession\n",
    "        seq1 = g1.sequence\n",
    "        for g2 in genes:\n",
    "            id2 = g2.accession\n",
    "            seq2 = g2.sequence\n",
    "            matrix[id1][id2] = smith_waterman(seq1, seq2)\n",
    "    \n",
    "    return matrix"
   ]
  },
  {
   "cell_type": "code",
   "execution_count": null,
   "metadata": {
    "deletable": false,
    "editable": false,
    "nbgrader": {
     "cell_type": "code",
     "checksum": "3be6e3fc1d9b43766f95b8272bafb642",
     "grade": true,
     "grade_id": "cell-e3c6270c9f76cf47",
     "locked": true,
     "points": 1,
     "schema_version": 3,
     "solution": false,
     "task": false
    }
   },
   "outputs": [],
   "source": [
    "matrix = init_distance_matrix(ribosome_genes)\n",
    "calculate_sw_alignment_distance_matrix(ribosome_genes, matrix)\n"
   ]
  },
  {
   "cell_type": "markdown",
   "metadata": {},
   "source": [
    "Let's test them out.\n",
    "The two cells below will use your `calculate_kmer_distance_matrix()`, and `calculate_sw_alignment_distance_matrix()` functions to add distances to the matrix.\n",
    "\n",
    "**NOTE:** the smith-waterman distance calculations can take time. Give it a minute."
   ]
  },
  {
   "cell_type": "code",
   "execution_count": null,
   "metadata": {},
   "outputs": [],
   "source": [
    "%%time\n",
    "\n",
    "distance_matrix = init_distance_matrix(ribosome_genes)\n",
    "kmer_distance_matrix = calculate_kmer_distance_matrix(\n",
    "    ribosome_genes,\n",
    "    distance_matrix,\n",
    "    8)\n",
    "print('\\nkmer distance matrix')\n",
    "print_distance_matrix(kmer_distance_matrix)"
   ]
  },
  {
   "cell_type": "code",
   "execution_count": null,
   "metadata": {},
   "outputs": [],
   "source": [
    "%%time\n",
    "\n",
    "distance_matrix = init_distance_matrix(ribosome_genes)\n",
    "sw_alignment_distance_matrix = calculate_sw_alignment_distance_matrix(\n",
    "    ribosome_genes,\n",
    "    distance_matrix)\n",
    "print('\\nsmith waterman alignment score distance matrix')\n",
    "print_distance_matrix(sw_alignment_distance_matrix)"
   ]
  },
  {
   "cell_type": "markdown",
   "metadata": {},
   "source": [
    "Let's visualise those in a better manner for human eyes.\n",
    "The cell below will plot heatmaps instead of raw numbers."
   ]
  },
  {
   "cell_type": "code",
   "execution_count": null,
   "metadata": {},
   "outputs": [],
   "source": [
    "from utilities import heatmap\n",
    "heatmap(kmer_distance_matrix,\n",
    "        sw_alignment_distance_matrix)"
   ]
  },
  {
   "cell_type": "markdown",
   "metadata": {
    "deletable": false,
    "editable": false,
    "nbgrader": {
     "cell_type": "markdown",
     "checksum": "c5a0c745f40ac482adc8b0bf4f970d5c",
     "grade": false,
     "grade_id": "cell-15d0915f907cf0c8",
     "locked": true,
     "schema_version": 3,
     "solution": false,
     "task": false
    }
   },
   "source": [
    "## Short answer question\n",
    "\n",
    "Answer in the cell below.\n",
    "\n",
    "You are screening sequencing reads from a mixed sample against a database to try to find out which organism each read came from. Your dataset may be short reads or long reads. Short sequencing reads are accurate, with sequencing errors occurring rarely (less than one error per 1000 b). Long read sequencing can be more error prone, with 1–10 errors per 100 b.\n",
    "\n",
    "How would the error profiles of different sequencing techniques (short *vs.* long reads) influence your choice between Smith-Waterman and *k*-mer based distance algorithms to compare each read to sequences in the database?\n",
    "\n",
    "**8 marks**, maximum of 150 words"
   ]
  },
  {
   "cell_type": "markdown",
   "metadata": {
    "deletable": false,
    "nbgrader": {
     "cell_type": "markdown",
     "checksum": "b0f38687c48789edb5d340529ce29f1b",
     "grade": true,
     "grade_id": "cell-45b99f48570ddf73",
     "locked": false,
     "points": 8,
     "schema_version": 3,
     "solution": true,
     "task": false
    }
   },
   "source": [
    "For error-prone long-read datasets, the errors will negatively influence the effectiveness of k-mer based algorithms more than the Smith-Waterman based algorithms. This is because for k-mer algorithms with a large k value, even a single missequenced nucleotide will greatly and falsely increase the number of unique kmers and hence the distance.  If with a small k value, k-mer based algorithm will not be greatly influenced by errors, but a small k value can lead to low specificity and loss of information. In contrast, Smith-Waterman based algorithms will impose a penalty on sequencing errors. This will not influence the effectiveness as much as it does k-mer based algorithms.  \n",
    "For accurate short-read datasets, k-mer based algorithms and Smith-Waterman based algorithms will both function well. \n"
   ]
  },
  {
   "cell_type": "markdown",
   "metadata": {},
   "source": [
    "# SECTION 2: CLUSTERING"
   ]
  },
  {
   "cell_type": "markdown",
   "metadata": {},
   "source": [
    "From the heatmaps, it seems like there are a few clusters in the data. <br>\n",
    "First, let's convert the pairwise distances to 2D coordinates. \n",
    "This is possible using Multidimensional scaling (MDS - which we will cover in a few weeks during lectures).\n",
    "After we have transformed the distance matrix to 2D coordinates, we can plot it to see if any clusters are evident."
   ]
  },
  {
   "cell_type": "code",
   "execution_count": null,
   "metadata": {},
   "outputs": [],
   "source": [
    "from utilities import mds_scatterplot, distance_matrix_to_coordinates_MDS\n",
    "\n",
    "kmer_distances_xy = distance_matrix_to_coordinates_MDS(kmer_distance_matrix)\n",
    "sw_distances_xy = distance_matrix_to_coordinates_MDS(sw_alignment_distance_matrix)\n",
    "mds_scatterplot(kmer_distances_xy)\n",
    "mds_scatterplot(sw_distances_xy)"
   ]
  },
  {
   "cell_type": "markdown",
   "metadata": {},
   "source": [
    "Seems like there is some clustering happening. <br>\n",
    "Let's use some clustering algorithms to define the clusters. \n",
    "in this manner, we can have an objective way to talk about the patterns in the data."
   ]
  },
  {
   "cell_type": "markdown",
   "metadata": {},
   "source": [
    "\n",
    "## TASK 4: DBSCAN (7 points)\n",
    "\n",
    "We are going to use DBSCAN to cluster the data."
   ]
  },
  {
   "cell_type": "markdown",
   "metadata": {},
   "source": [
    "### Description of DBSCAN process\n",
    "\n",
    "\n",
    "DBSCAN is a clustering method which assigns points to clusters based on continuous regions\n",
    "of point density above a given threshold. \n",
    "\n",
    "We will use the variables 'epsilon' and min_pts to determine if a point belongs to a local \n",
    "high-density region. \n",
    "\n",
    "\n",
    "Here is a pseudocode outline of the DBSCAN algorithm:\n",
    "\n",
    "\n",
    "1. For each point in the dataset, we:  \t\n",
    "  a. Compute the epsilon neighbourhood of the point;  \n",
    "  b. Classify the point as core, border or noise, depending on the number of neighbours.  \n",
    "\n",
    "2. For each **core** point, *x*, that is **not** assigned a cluster id, we explore the points in the epsilon neighbourhood as follows:  \n",
    "  a. Assign the point *x* the current cluster id;  \n",
    "  b. Move to the next point in the epsilon neighbourhood, *y*, and assign the same cluster id.  \t\n",
    "    - If *y* is also a core point, we repeat step 2b to explore the neighbouring points of *y*.  \n",
    "\t- If *y* is not a core point, we move on to the next neighbour of *x* and repeat step 2.\n",
    "\n",
    "\n",
    "3. Step 2 is repeated until all core points are assigned a cluster id.\n",
    "\n"
   ]
  },
  {
   "cell_type": "code",
   "execution_count": null,
   "metadata": {},
   "outputs": [],
   "source": [
    "from utilities import euclidean_distance, plot_dbscan\n",
    "from sklearn.datasets import make_moons"
   ]
  },
  {
   "cell_type": "code",
   "execution_count": null,
   "metadata": {},
   "outputs": [],
   "source": [
    "# Generate curved testing data\n",
    "x, label = make_moons(n_samples=200, noise=0.1, random_state=19)\n",
    "# Add background noise\n",
    "background = np.random.uniform(low=[-1,0],high=[2,2],size=(30,2))\n",
    "# Join datasets\n",
    "points_array = np.concatenate([x,background])\n",
    "# Convert array to list of tuples\n",
    "data = [tuple(p) for p in points_array]\n"
   ]
  },
  {
   "cell_type": "code",
   "execution_count": null,
   "metadata": {},
   "outputs": [],
   "source": [
    "# Inspect data\n",
    "x_values = [x for (x,y) in data]\n",
    "y_values = [y for (x,y) in data]\n",
    "plt.scatter(x_values,y_values)"
   ]
  },
  {
   "cell_type": "code",
   "execution_count": null,
   "metadata": {
    "deletable": false,
    "nbgrader": {
     "cell_type": "code",
     "checksum": "6c6fede96255b7fed24d8013ad9c17aa",
     "grade": false,
     "grade_id": "cell-ab7eb4c85caf05c0",
     "locked": false,
     "schema_version": 3,
     "solution": true,
     "task": false
    }
   },
   "outputs": [],
   "source": [
    "# -- GRADED CELL (2 marks) - complete this cell --\n",
    "\n",
    "# Calculating neighbours\n",
    "# Use provided function euclidean_distance() to find distance between points.\n",
    "\n",
    "def _get_neighbours(points, p, eps):\n",
    "    ''' \n",
    "        Find all data points that occur within eps distance of point p.\n",
    "        Return as list of tuples.\n",
    "    '''\n",
    "    neighbours = []\n",
    "    for point in points:\n",
    "        distance = euclidean_distance(point, p)\n",
    "        if distance <= eps:\n",
    "            neighbours.append(point)\n",
    "    \n",
    "    return neighbours\n",
    "\n"
   ]
  },
  {
   "cell_type": "code",
   "execution_count": null,
   "metadata": {
    "deletable": false,
    "editable": false,
    "nbgrader": {
     "cell_type": "code",
     "checksum": "d56f7282a20ceb307ab975213542dc2d",
     "grade": true,
     "grade_id": "cell-8f5dd7504a3f0516",
     "locked": true,
     "points": 2,
     "schema_version": 3,
     "solution": false,
     "task": false
    }
   },
   "outputs": [],
   "source": [
    "# Tests\n",
    "assert len(_get_neighbours(points=[(1,1),(1.1,1.1),(5,5)], p=(5,5), eps=0.15)) == 1\n",
    "assert len(_get_neighbours(points=[(1,1),(1.1,1.1),(5,5)], p=(1,1), eps=0.15)) == 2"
   ]
  },
  {
   "cell_type": "code",
   "execution_count": null,
   "metadata": {
    "deletable": false,
    "nbgrader": {
     "cell_type": "code",
     "checksum": "652364e665f369f784db223db76655f5",
     "grade": false,
     "grade_id": "cell-a9d2589026b0667c",
     "locked": false,
     "schema_version": 3,
     "solution": true,
     "task": false
    }
   },
   "outputs": [],
   "source": [
    "# -- GRADED CELL (2 marks) - complete this cell --\n",
    "# Labelling point types\n",
    "\n",
    "def _set_point_labels(points, min_pts, eps):\n",
    "    '''\n",
    "        Set point lable to: \n",
    "        - 'core' if within eps distance of min_pts number of neighbours\n",
    "        - 'border' if within eps distance of a core point\n",
    "        - 'noise' if not within eps distance of a core point\n",
    "        Input:\n",
    "        - A list of datapoints stored as tuples of form (x,y)\n",
    "        - min_pts = minimum number of neighbours for point to be considered 'core'\n",
    "        - eps = epsilon distance \n",
    "        Output:\n",
    "        - A list of labels in corresponding order to data point list.\n",
    "    '''\n",
    "    labels = ['undefined' for point in points ]\n",
    "    length = len(points)\n",
    "    lst_core = []\n",
    "    \n",
    "    for a in range(0,length):\n",
    "        p = points[a]\n",
    "        neighbours = _get_neighbours(points, p, eps)\n",
    "        neigh_num = len(neighbours)\n",
    "        if neigh_num >= min_pts:\n",
    "            labels[a] = 'core'\n",
    "            lst_core.append(p)    \n",
    "    for b in range(0,length):\n",
    "        if labels[b] == 'undefined':\n",
    "            p_undefined = points[b]\n",
    "            for c in lst_core:\n",
    "                distance = euclidean_distance(p_undefined, c)\n",
    "                if distance <= eps:\n",
    "                    labels[b] = 'border'\n",
    "                else:\n",
    "                    labels[b] = 'noise'\n",
    "    \n",
    "    return labels\n"
   ]
  },
  {
   "cell_type": "code",
   "execution_count": null,
   "metadata": {
    "deletable": false,
    "editable": false,
    "nbgrader": {
     "cell_type": "code",
     "checksum": "4365d390b3f9a72c868f0e82960673e7",
     "grade": true,
     "grade_id": "cell-c9f6997796d84887",
     "locked": true,
     "points": 1,
     "schema_version": 3,
     "solution": false,
     "task": false
    }
   },
   "outputs": [],
   "source": [
    "assert _set_point_labels([(1,1.01),(1.01,1.01),(1.1,1.1),(5,5)], min_pts=3, eps=0.15) == ['core', 'core', 'core', 'noise']\n",
    "\n"
   ]
  },
  {
   "cell_type": "code",
   "execution_count": null,
   "metadata": {
    "deletable": false,
    "editable": false,
    "nbgrader": {
     "cell_type": "code",
     "checksum": "55c43704e16e1862a9d286abf6e09121",
     "grade": true,
     "grade_id": "cell-f2414424690d7be5",
     "locked": true,
     "points": 1,
     "schema_version": 3,
     "solution": false,
     "task": false
    }
   },
   "outputs": [],
   "source": []
  },
  {
   "cell_type": "code",
   "execution_count": null,
   "metadata": {
    "deletable": false,
    "nbgrader": {
     "cell_type": "code",
     "checksum": "654876f2c8a90ff326a358cc781b0024",
     "grade": false,
     "grade_id": "cell-4fb4dbf625e84aba",
     "locked": false,
     "schema_version": 3,
     "solution": true,
     "task": false
    }
   },
   "outputs": [],
   "source": [
    "# -- GRADED CELL (4 marks) - complete this cell --\n",
    "\n",
    "def _assign_clusters(data, labels, eps, min_pts):\n",
    "    '''\n",
    "       Assign data points to clusters where all points belonging to an individual cluster \n",
    "       are reachable from at least one 'core' point in that cluster.\n",
    "       Input:\n",
    "        - A list of datapoints stored as tuples of form (x,y)\n",
    "        - A corresponding list of labels with values 'core', 'border', or 'noise'\n",
    "        Output:\n",
    "        - A list of cluster assignments corresponding to input list data\n",
    "    '''\n",
    "    def process_neighs(dic, p, idx):\n",
    "        for p in dic[p]['neigh']:\n",
    "            if not dic[p]['clusters']:\n",
    "                dic[p]['clusters'] = idx\n",
    "                if dic[p]['label'] == 'core':\n",
    "                    process_neighs(dic, p, idx)\n",
    "    \n",
    "    \n",
    "    clusters = [None for point in data]\n",
    "    dic = {}\n",
    "    length = len(data)\n",
    "    \n",
    "    for a in range(0,length):\n",
    "        p = data[a]\n",
    "        dic[p] = {}\n",
    "        lst_neigh = _get_neighbours(data, p, eps)\n",
    "        dic[p]['neigh'] = lst_neigh\n",
    "        dic[p]['label'] = labels[a]\n",
    "        dic[p]['clusters'] = clusters[a]\n",
    "        \n",
    "    idx = 1\n",
    "    for p in data:\n",
    "        if dic[p]['label'] == 'core':\n",
    "            if not dic[p]['clusters']:\n",
    "                dic[p]['clusters'] = idx\n",
    "                process_neighs(dic, p, idx)\n",
    "                idx += 1\n",
    "    clusters_lst = []\n",
    "    for sub_dic in dic.values():\n",
    "        clusters_lst.append(sub_dic['clusters'])\n",
    "    clusters = clusters_lst  \n",
    "    return clusters\n"
   ]
  },
  {
   "cell_type": "code",
   "execution_count": null,
   "metadata": {
    "deletable": false,
    "editable": false,
    "nbgrader": {
     "cell_type": "code",
     "checksum": "67604d8f48ba4e845d53a16626a9364f",
     "grade": true,
     "grade_id": "cell-274a67bfb0eac4ae",
     "locked": true,
     "points": 1,
     "schema_version": 3,
     "solution": false,
     "task": false
    }
   },
   "outputs": [],
   "source": [
    "# Basic check\n",
    "t_data = [(0.9,0.9),(1.01,1),(1.01,1.01),(1,1.01),(10,10.01),(10.01,10),(10.11,10),(10,10.11)]\n",
    "t_labels = _set_point_labels(t_data, min_pts=4, eps=0.15)\n",
    "assert len(set(_assign_clusters(t_data, t_labels, min_pts=4, eps=0.15))) == 2, 'Incorrect number of clusters'"
   ]
  },
  {
   "cell_type": "code",
   "execution_count": null,
   "metadata": {
    "deletable": false,
    "editable": false,
    "nbgrader": {
     "cell_type": "code",
     "checksum": "43106e00c924344cf9c3b4132f7017f4",
     "grade": true,
     "grade_id": "cell-0b6efc80e00d45bd",
     "locked": true,
     "points": 1,
     "schema_version": 3,
     "solution": false,
     "task": false
    }
   },
   "outputs": [],
   "source": []
  },
  {
   "cell_type": "code",
   "execution_count": null,
   "metadata": {
    "deletable": false,
    "editable": false,
    "nbgrader": {
     "cell_type": "code",
     "checksum": "43dc38e1398a78cae2db219b9d279ecd",
     "grade": true,
     "grade_id": "cell-5218c9e9d521f813",
     "locked": true,
     "points": 1,
     "schema_version": 3,
     "solution": false,
     "task": false
    }
   },
   "outputs": [],
   "source": []
  },
  {
   "cell_type": "code",
   "execution_count": null,
   "metadata": {
    "deletable": false,
    "editable": false,
    "nbgrader": {
     "cell_type": "code",
     "checksum": "f272fc5a5bb57cfa89ce554bac77bede",
     "grade": true,
     "grade_id": "cell-1c075615a8f797ab",
     "locked": true,
     "points": 0,
     "schema_version": 3,
     "solution": false,
     "task": false
    }
   },
   "outputs": [],
   "source": []
  },
  {
   "cell_type": "code",
   "execution_count": null,
   "metadata": {
    "deletable": false,
    "editable": false,
    "nbgrader": {
     "cell_type": "code",
     "checksum": "710934bffd281316ad05f017541cbc2e",
     "grade": true,
     "grade_id": "cell-ca23c5471f272069",
     "locked": true,
     "points": 1,
     "schema_version": 3,
     "solution": false,
     "task": false
    }
   },
   "outputs": [],
   "source": []
  },
  {
   "cell_type": "code",
   "execution_count": null,
   "metadata": {
    "deletable": false,
    "nbgrader": {
     "cell_type": "code",
     "checksum": "985a9b54fb1c1bb7a5917539252f4f40",
     "grade": false,
     "grade_id": "cell-7ebc4f8392e4781f",
     "locked": false,
     "schema_version": 3,
     "solution": true,
     "task": false
    }
   },
   "outputs": [],
   "source": [
    "# -- GRADED CELL (2 marks) - complete this cell --\n",
    "\n",
    "# Put it all together\n",
    "\n",
    "def dbscan(data, eps=0.25, min_pts=10):\n",
    "    '''\n",
    "        Take input list of data points. \n",
    "        Return list of data points AND list of cluster assignments.\n",
    "    '''\n",
    "    if type(data) == np.ndarray:\n",
    "        dt = data.tolist()\n",
    "        data = []\n",
    "        for p in dt:\n",
    "            data.append(tuple(p)) \n",
    "    labels = _set_point_labels(data, min_pts, eps)\n",
    "    clusters = _assign_clusters(data, labels, eps, min_pts)\n",
    "    points = data    \n",
    "    \n",
    "    return points, clusters"
   ]
  },
  {
   "cell_type": "code",
   "execution_count": null,
   "metadata": {
    "deletable": false,
    "editable": false,
    "nbgrader": {
     "cell_type": "code",
     "checksum": "ed70a156120204774c236208deed2e2d",
     "grade": true,
     "grade_id": "cell-dcaf83f436d18294",
     "locked": true,
     "points": 2,
     "schema_version": 3,
     "solution": false,
     "task": false
    }
   },
   "outputs": [],
   "source": [
    "%%time\n",
    "points, clusters = dbscan(data, eps=0.25, min_pts=10)\n",
    "\n",
    "assert type(points) == type(clusters), 'dbscan function must return a list of data points and a list of cluster assignments'\n"
   ]
  },
  {
   "cell_type": "code",
   "execution_count": null,
   "metadata": {},
   "outputs": [],
   "source": [
    "%%time\n",
    "# Run dbscan\n",
    "points, clusters = dbscan(data, eps=0.23, min_pts=10)\n",
    "\n",
    "# Plot clusters\n",
    "plot_dbscan(points, clusters)\n",
    "\n"
   ]
  },
  {
   "cell_type": "markdown",
   "metadata": {},
   "source": [
    "## Comparing K-means and DBSCAN clustering\n",
    "\n",
    "Below we will colour our MDS plots using cluster labels from either KMeans or your implementation of DBSCAN."
   ]
  },
  {
   "cell_type": "code",
   "execution_count": null,
   "metadata": {},
   "outputs": [],
   "source": [
    "# Lets look at the MDS plot of our Smith-Waterman distances with different clustering methods\n",
    "\n",
    "# Import KMeans fuction from sklearn\n",
    "from sklearn.cluster import KMeans\n",
    "from utilities import mds_scatterplot_clusters\n",
    "\n",
    "# Cluster with DBSCAN\n",
    "sw_points, sw_db_clusters = dbscan(sw_distances_xy, eps=20, min_pts=3)\n",
    "\n",
    "# Cluster with K-means\n",
    "sw_kmeans = KMeans(n_clusters=3, random_state=0).fit(sw_distances_xy)\n",
    "\n",
    "\n",
    "# Plot with clusters\n",
    "print(\"DBSCAN Clusters\")\n",
    "mds_scatterplot_clusters(sw_points, labels=sw_db_clusters)\n",
    "print(\"KMeans Clusters\")\n",
    "mds_scatterplot_clusters(sw_points, labels=sw_kmeans.labels_)"
   ]
  },
  {
   "cell_type": "markdown",
   "metadata": {
    "deletable": false,
    "editable": false,
    "nbgrader": {
     "cell_type": "markdown",
     "checksum": "f849603e6bf27c75edb6237bd743b4e2",
     "grade": false,
     "grade_id": "cell-cc05c17a375858e9",
     "locked": true,
     "schema_version": 3,
     "solution": false,
     "task": false
    }
   },
   "source": [
    "## Short-answer questions"
   ]
  },
  {
   "cell_type": "markdown",
   "metadata": {
    "deletable": false,
    "editable": false,
    "nbgrader": {
     "cell_type": "markdown",
     "checksum": "8fc4824652ee480ef2eaa1a3f97ca97a",
     "grade": false,
     "grade_id": "cell-ea19241d69442e22",
     "locked": true,
     "schema_version": 3,
     "solution": false,
     "task": false
    }
   },
   "source": [
    "Answer in the cell below.\n",
    "\n",
    "List 2 benefits and 2 drawbacks of DBSCAN, compared to K-means clustering.\n",
    "\n",
    "**8 marks**"
   ]
  },
  {
   "cell_type": "markdown",
   "metadata": {
    "deletable": false,
    "nbgrader": {
     "cell_type": "markdown",
     "checksum": "7d051f88fbdece6296790ce231c86dce",
     "grade": true,
     "grade_id": "cell-9f5cac910408be94",
     "locked": false,
     "points": 8,
     "schema_version": 3,
     "solution": true,
     "task": false
    }
   },
   "source": [
    "Benefits:\n",
    "1 DBSCAN can cluster data into arbitrarily-shaped clusters, while k-means cannot\n",
    "2 DBSCAN can discriminate outliers and hence is robust to noise\n",
    "Drawbacks:\n",
    "1 DBSCAN cannot handle clusters with varied density well\n",
    "2 DBSCAN is sensitive to parameter values(eps and minPts), which means improper choice of parameter values can greatly influence the effectiveness of DBSCAN "
   ]
  },
  {
   "cell_type": "markdown",
   "metadata": {
    "deletable": false,
    "editable": false,
    "nbgrader": {
     "cell_type": "markdown",
     "checksum": "4656c0a8366a73b4b6cf61ed36226965",
     "grade": false,
     "grade_id": "cell-65dad8afdec97328",
     "locked": true,
     "schema_version": 3,
     "solution": false,
     "task": false
    }
   },
   "source": [
    "Answer in the cell below.\n",
    "\n",
    "We've discussed how DBSCAN can have difficulty identifying clusters with different densities. How would you write an algorithmic approach to use DBSCAN to identify clusters with a range of densities? Describe your approach in plan English, not code.\n",
    "\n",
    "**4 marks**, maximum of 100 words"
   ]
  },
  {
   "cell_type": "markdown",
   "metadata": {
    "deletable": false,
    "nbgrader": {
     "cell_type": "markdown",
     "checksum": "1263dcce46230bfae09152d6e5c0c897",
     "grade": true,
     "grade_id": "cell-60247fce6cb0cbf8",
     "locked": false,
     "points": 4,
     "schema_version": 3,
     "solution": true,
     "task": false
    }
   },
   "source": [
    "Rather than a single parameter eps value, we can design an algorithm that can detect and apply different eps values in different clusters, based on the local density of the initial point in each cluster. (Small eps value for dense clusters, greater for sparse clusters.) First, for each data point, a local density is calculated as the sum of distances from the k-nearest neighbors to the current point. Secondly, data points are descendingly sorted according to local density. Thirdly, we perform DBSCAN cluster assigning, starting with the point with the highest local density towards the point with the lowest. "
   ]
  }
 ],
 "metadata": {
  "kernelspec": {
   "display_name": "Python 3",
   "language": "python",
   "name": "python3"
  },
  "language_info": {
   "codemirror_mode": {
    "name": "ipython",
    "version": 3
   },
   "file_extension": ".py",
   "mimetype": "text/x-python",
   "name": "python",
   "nbconvert_exporter": "python",
   "pygments_lexer": "ipython3",
   "version": "3.7.6"
  }
 },
 "nbformat": 4,
 "nbformat_minor": 4
}
