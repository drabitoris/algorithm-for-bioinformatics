{
 "cells": [
  {
   "cell_type": "markdown",
   "metadata": {
    "deletable": false,
    "editable": false,
    "nbgrader": {
     "cell_type": "markdown",
     "checksum": "fcd8eb18b195d7647f8cc7642c1caee3",
     "grade": false,
     "grade_id": "cell-88ce52fdb06971f9",
     "locked": true,
     "schema_version": 3,
     "solution": false,
     "task": false
    }
   },
   "source": [
    "Cells that must be completed to receive marks are labelled like this:\n",
    "\n",
    "`# -- GRADED CELL (1 mark) - complete this cell --`\n",
    "\n",
    "Some graded cells are code cells, in which you must complete the code to solve a problem. Other graded cells are markdown cells, in which you must write your answers to short-answer questions. \n",
    "\n",
    "You will see the following text in graded code cells:\n",
    "\n",
    "```\n",
    "# YOUR CODE HERE\n",
    "raise NotImplementedError()\n",
    "```\n",
    "\n",
    "***You must remove the `raise NotImplementedError()` line from the cell, and replace it with your solution.***\n"
   ]
  },
  {
   "cell_type": "markdown",
   "metadata": {
    "deletable": false,
    "editable": false,
    "nbgrader": {
     "cell_type": "markdown",
     "checksum": "95c50956183bb4aedd635788d70ed282",
     "grade": false,
     "grade_id": "cell-d486b4e261ee607c",
     "locked": true,
     "schema_version": 3,
     "solution": false,
     "task": false
    }
   },
   "source": [
    "Only graded cells will be marked.\n",
    "**Don't make changes outside graded cells, and don't add or remove cells from the notebook**."
   ]
  },
  {
   "cell_type": "markdown",
   "metadata": {
    "deletable": false,
    "editable": false,
    "nbgrader": {
     "cell_type": "markdown",
     "checksum": "d7f15062a2ad9f7e0e1cf1ee9d0e5dba",
     "grade": false,
     "grade_id": "cell-5d26126e3ec5ec6d",
     "locked": true,
     "schema_version": 3,
     "solution": false,
     "task": false
    }
   },
   "source": [
    "Before you turn this assignment in, make sure everything runs as expected. First, **restart the kernel** (in the menubar, select Kernel$\\rightarrow$Restart) and then **run all cells** (in the menubar, select Cell$\\rightarrow$Run All).\n",
    "\n",
    "Make sure you fill in any place that says `YOUR CODE HERE` or \"YOUR ANSWER HERE\", as well as your name and student ID number below:"
   ]
  },
  {
   "cell_type": "code",
   "execution_count": null,
   "metadata": {},
   "outputs": [],
   "source": [
    "NAME = \"Jiayu Wang\"\n",
    "ID = \"1039580\""
   ]
  },
  {
   "cell_type": "markdown",
   "metadata": {
    "deletable": false,
    "editable": false,
    "nbgrader": {
     "cell_type": "markdown",
     "checksum": "a37865e6932de91ebd51e2be0c447d39",
     "grade": false,
     "grade_id": "cell-027c82ef810281c8",
     "locked": true,
     "schema_version": 3,
     "solution": false,
     "task": false
    }
   },
   "source": [
    "# COMP90014 Assignment 2\n",
    "### Semester 2, 2021\n",
    "\n"
   ]
  },
  {
   "cell_type": "markdown",
   "metadata": {
    "deletable": false,
    "editable": false,
    "nbgrader": {
     "cell_type": "markdown",
     "checksum": "ee4037ff6dd844b011b3c8f24e91ebdb",
     "grade": false,
     "grade_id": "cell-d98c7032d49ee4b4",
     "locked": true,
     "schema_version": 3,
     "solution": false,
     "task": false
    }
   },
   "source": [
    "This assignment should be completed by each student individually. Make sure you read this entire document, and ask for help if anything is not clear. Any changes or clarifications to this document will be announced via the LMS.\n",
    "\n",
    "Please make sure you review the University's rules on academic honesty and plagiarism: https://academichonesty.unimelb.edu.au/\n",
    "\n",
    "Do not copy any code from other students or from the internet. This is considered plagiarism.\n",
    "\n",
    "To complete the assignment, finish the tasks in this notebook.\n",
    "\n",
    "The tasks are a combination of writing your own code, interpreting the results and answering related short-answer questions.\n",
    "\n",
    "In some cases, we have provided test input and test output that you can use to try out your solutions. These tests are just samples and are **not** exhaustive - they may warn you if you've made a mistake, but they are not guaranteed to. It's up to you to decide whether your code is correct."
   ]
  },
  {
   "cell_type": "markdown",
   "metadata": {
    "deletable": false,
    "editable": false,
    "nbgrader": {
     "cell_type": "markdown",
     "checksum": "965031e4a8fcd5aaa496d27692abfc2b",
     "grade": false,
     "grade_id": "cell-44f352faa8a06de1",
     "locked": true,
     "schema_version": 3,
     "solution": false,
     "task": false
    }
   },
   "source": [
    "### Completing the assignment\n",
    "\n",
    "You will need to finish the tasks in this notebook.\n",
    "\n",
    "You must not call functions from external packages that implement parts of the algorithms we have asked you to write.\n",
    "\n",
    "The tasks are a combination of writing your own implementations of algorithms we've discussed in lectures (including adapting or describing them in plain English or pseudocode) and interpreting the results in short answer format.\n",
    "\n",
    "In some case, we have provided test input and test output that you can use to try out your solutions. These tests are just samples and are not exhaustive - they may warn you if you've made a mistake, but they are not guaranteed to. It's up to you to decide whether your code is correct."
   ]
  },
  {
   "cell_type": "markdown",
   "metadata": {
    "deletable": false,
    "editable": false,
    "nbgrader": {
     "cell_type": "markdown",
     "checksum": "a2fc778873416edc0fbd213f2e1b499b",
     "grade": false,
     "grade_id": "cell-8773d1119a03886f",
     "locked": true,
     "schema_version": 3,
     "solution": false,
     "task": false
    }
   },
   "source": [
    "### Submitting your work\n",
    "\n",
    "Your completed notebook file containing all your answers must be turned in via LMS in `.ipynb` format.\n",
    "You must also submit a file in `html` format with the output cleared.\n",
    "You can do this by using the `Clear all output` option in the menu.\n"
   ]
  },
  {
   "cell_type": "markdown",
   "metadata": {
    "deletable": false,
    "editable": false,
    "nbgrader": {
     "cell_type": "markdown",
     "checksum": "2a12b4a6f8de6db1ccd8d2897915d3ba",
     "grade": false,
     "grade_id": "cell-adb299e34d00f5ba",
     "locked": true,
     "schema_version": 3,
     "solution": false,
     "task": false
    }
   },
   "source": [
    "### Marking\n",
    "\n",
    "Only modify graded cells. If you want to write a helper function, do it in a graded cell.\n",
    "\n",
    "Word limits, where stated, will be strictly enforced. Answers exceeding the limit **will not be marked**.\n",
    "\n",
    "No marks are allocated to commenting in your code. We do however, encourage efficient and well commented code.\n"
   ]
  },
  {
   "cell_type": "markdown",
   "metadata": {
    "deletable": false,
    "editable": false,
    "nbgrader": {
     "cell_type": "markdown",
     "checksum": "75450d71d20619879e61460edee7a03d",
     "grade": false,
     "grade_id": "cell-785651f0543147f2",
     "locked": true,
     "schema_version": 3,
     "solution": false,
     "task": false
    }
   },
   "source": [
    "### Pseudocode\n",
    "Pseudocode for algorithms are a series of logical steps which any programmer can understand.\n",
    "Here is the pseudocode for a function fizzbuzz to print numbers that are divisible by 3 or 5:\n",
    "\n",
    "```\n",
    "function fizzbuzz()\n",
    "    For i = 1 to 100\n",
    "        If i is divisible by 3 Then\n",
    "            Print \"Fizz\"\n",
    "        If i is divisible by 5 Then\n",
    "            Print \"Buzz\"\n",
    "```\n",
    "      \n",
    "As you can see, the basic steps are shown, but there is no language-specific syntax. <br>\n",
    "In this manner, pseudocode explains the algorithm procedure in **direct, plain language.** <br>\n",
    "As a note, if your function calls another function (lets call this function **boom**), write it as **boom()** in the pseudocode. The open/close brackets show that 'boom' is another function call.\n",
    "\n",
    "There are no real conventions aside from the above, so please use a style which you think is **clearest.**"
   ]
  },
  {
   "cell_type": "markdown",
   "metadata": {
    "deletable": false,
    "editable": false,
    "nbgrader": {
     "cell_type": "markdown",
     "checksum": "c175968165aa138eb8e954c4ca33b6e6",
     "grade": false,
     "grade_id": "cell-e2ec4924dd784445",
     "locked": true,
     "schema_version": 3,
     "solution": false,
     "task": false
    }
   },
   "source": [
    "# Part I\n",
    "\n",
    "### Background and data \n",
    "\n",
    "WGCNA stands for weighted gene co-expression network analysis. It is a data analysis technique used for studying biological networks based on pairwise correlations of gene expression data. WGCNA is good at identifying clusters of genes that may be co-regulated, and therefore may have shared biological function.\n",
    "\n",
    "For this assignment, you will primarily be using the [FlyAtlas](http://flyatlas.org) dataset. For this assignment, instead of using the probe-wise dataset, we will be using the expression value for each gene.\n",
    "\n"
   ]
  },
  {
   "cell_type": "markdown",
   "metadata": {
    "deletable": false,
    "editable": false,
    "nbgrader": {
     "cell_type": "markdown",
     "checksum": "e385cd1330b85d324dc7a3f5285c69e2",
     "grade": false,
     "grade_id": "cell-4120c30e1052e087",
     "locked": true,
     "schema_version": 3,
     "solution": false,
     "task": false
    }
   },
   "source": [
    "### Import packages\n",
    "\n",
    "If you are using jupyter lab on CloudStor SWAN, all of the packages in the following cell will be available.\n",
    "If you are working on your local computer, you may need to install some packages.\n",
    "\n",
    "If you need to use additional packages, you must import them in a graded cell.\n",
    "\n"
   ]
  },
  {
   "cell_type": "code",
   "execution_count": null,
   "metadata": {
    "deletable": false,
    "editable": false,
    "nbgrader": {
     "cell_type": "code",
     "checksum": "c02f1e09d2cff79c4e31eff67da262ab",
     "grade": false,
     "grade_id": "cell-d1ef02ae4ea53bed",
     "locked": true,
     "schema_version": 3,
     "solution": false,
     "task": false
    }
   },
   "outputs": [],
   "source": [
    "%matplotlib inline\n",
    "import matplotlib.pyplot as plt\n",
    "import seaborn as sns\n",
    "import altair\n",
    "import pandas as pd\n",
    "import numpy as np\n",
    "import networkx as nx\n",
    "import scipy\n",
    "import re\n",
    "from io import StringIO\n",
    "from copy import deepcopy\n",
    "from sklearn.decomposition import PCA\n",
    "from scipy.cluster.hierarchy import linkage, dendrogram, fcluster\n",
    "from scipy.spatial.distance import squareform"
   ]
  },
  {
   "cell_type": "markdown",
   "metadata": {
    "deletable": false,
    "editable": false,
    "nbgrader": {
     "cell_type": "markdown",
     "checksum": "5c4f2c862413a72207108771883654ca",
     "grade": false,
     "grade_id": "cell-7d7c2de98a1fe422",
     "locked": true,
     "schema_version": 3,
     "solution": false,
     "task": false
    }
   },
   "source": [
    "### Settings\n",
    "We will set numpy and pandas to display numbers to just two decimal places in this notebook - this won't affect the actual numbers, just their display."
   ]
  },
  {
   "cell_type": "code",
   "execution_count": null,
   "metadata": {
    "deletable": false,
    "editable": false,
    "nbgrader": {
     "cell_type": "code",
     "checksum": "237d2eb66833c2b3584a793938aff807",
     "grade": false,
     "grade_id": "cell-39ed585f492e93db",
     "locked": true,
     "schema_version": 3,
     "solution": false,
     "task": false
    }
   },
   "outputs": [],
   "source": [
    "np.set_printoptions(precision=2)\n",
    "pd.options.display.precision=2"
   ]
  },
  {
   "cell_type": "markdown",
   "metadata": {
    "deletable": false,
    "editable": false,
    "nbgrader": {
     "cell_type": "markdown",
     "checksum": "2cc9bd2cbf931a8f29741a36cae760a0",
     "grade": false,
     "grade_id": "cell-90d2cfdfe7d106f7",
     "locked": true,
     "schema_version": 3,
     "solution": false,
     "task": false
    }
   },
   "source": [
    "### Read in data\n",
    "\n",
    "To begin we will importing the fly atlas data into a pandas dataframe. We will then inspect the first few items in our data. It should have gene names as row names and sample names as column names.\n",
    "\n"
   ]
  },
  {
   "cell_type": "code",
   "execution_count": null,
   "metadata": {
    "deletable": false,
    "editable": false,
    "nbgrader": {
     "cell_type": "code",
     "checksum": "a4421331021f2f8da24e8d1beb87c892",
     "grade": false,
     "grade_id": "cell-e5362f66cdaa527a",
     "locked": true,
     "schema_version": 3,
     "solution": false,
     "task": false
    }
   },
   "outputs": [],
   "source": [
    "# Import data\n",
    "raw_expression = pd.read_csv('flyatlas_subset.csv.gz', index_col=0)\n",
    "\n",
    "# Print first 5 rows\n",
    "raw_expression.head()"
   ]
  },
  {
   "cell_type": "markdown",
   "metadata": {
    "deletable": false,
    "editable": false,
    "nbgrader": {
     "cell_type": "markdown",
     "checksum": "8e358441b4de7cf4c9b8c74fbc7bea4a",
     "grade": false,
     "grade_id": "cell-a25f70f569842717",
     "locked": true,
     "schema_version": 3,
     "solution": false,
     "task": false
    }
   },
   "source": [
    "The data frame has 3114 rows (genes) and 136 columns (samples) so it is certainly high dimensional. These 136 columns represent 4 replicates each from 34 different tissue types."
   ]
  },
  {
   "cell_type": "markdown",
   "metadata": {
    "deletable": false,
    "editable": false,
    "nbgrader": {
     "cell_type": "markdown",
     "checksum": "c40e32601a2b9af341048aed99522c0e",
     "grade": false,
     "grade_id": "cell-41ce42e631b09d75",
     "locked": true,
     "schema_version": 3,
     "solution": false,
     "task": false
    }
   },
   "source": [
    "### Data labels\n",
    "The following code snippet removes the replicate name from each sample, so we can use these labels as categories for plotting later."
   ]
  },
  {
   "cell_type": "code",
   "execution_count": null,
   "metadata": {
    "deletable": false,
    "editable": false,
    "nbgrader": {
     "cell_type": "code",
     "checksum": "91965ec1910589aee1e016446d34d73e",
     "grade": false,
     "grade_id": "cell-8ec6eb278ac6b78d",
     "locked": true,
     "schema_version": 3,
     "solution": false,
     "task": false
    }
   },
   "outputs": [],
   "source": [
    "# Make list of sample names without replicate number\n",
    "tissues_list = [re.match('(.+?)(( biological)? rep\\d+)', c).group(1)\n",
    "                     for c in raw_expression.columns]\n",
    "tissues = pd.Series(tissues_list, index = raw_expression.columns)"
   ]
  },
  {
   "cell_type": "markdown",
   "metadata": {
    "deletable": false,
    "editable": false,
    "nbgrader": {
     "cell_type": "markdown",
     "checksum": "0896c089ad1e374ab2134b49a8739f10",
     "grade": false,
     "grade_id": "cell-7d884d10a3566065",
     "locked": true,
     "schema_version": 3,
     "solution": false,
     "task": false
    }
   },
   "source": [
    "### Transforming the data\n",
    "\n",
    "It's common practice to take the log of expression values. Here is a visual motivation as to why this may be useful:"
   ]
  },
  {
   "cell_type": "code",
   "execution_count": null,
   "metadata": {
    "deletable": false,
    "editable": false,
    "nbgrader": {
     "cell_type": "code",
     "checksum": "6bace0f3a5ccc5022dd05dbf52ebb286",
     "grade": false,
     "grade_id": "cell-d372b7a625a96f46",
     "locked": true,
     "schema_version": 3,
     "solution": false,
     "task": false
    }
   },
   "outputs": [],
   "source": [
    "log_expression = np.log(raw_expression + 1)\n",
    "\n",
    "fig, (ax1, ax2) = plt.subplots(1, 2, figsize=(16, 6))\n",
    "ax1.hist(raw_expression.values.flatten(), bins=200)\n",
    "ax1.set_title('raw expression')\n",
    "ax1.set_xlabel('expression value')\n",
    "ax1.set_ylabel('num occurrences')\n",
    "ax2.hist(log_expression.values.flatten(), bins=200)\n",
    "ax2.set_title('log expression')\n",
    "ax2.set_xlabel('expression value')\n",
    "ax2.set_ylabel('num occurrences')\n",
    "plt.show()"
   ]
  },
  {
   "cell_type": "markdown",
   "metadata": {
    "deletable": false,
    "editable": false,
    "nbgrader": {
     "cell_type": "markdown",
     "checksum": "7ec13524ea0bdc58df3616cacd714bb0",
     "grade": false,
     "grade_id": "cell-f7834032af901153",
     "locked": true,
     "schema_version": 3,
     "solution": false,
     "task": false
    }
   },
   "source": [
    "<br>\n",
    "From here on, we will use 'log_expression' as our sample data"
   ]
  },
  {
   "cell_type": "code",
   "execution_count": null,
   "metadata": {
    "deletable": false,
    "editable": false,
    "nbgrader": {
     "cell_type": "code",
     "checksum": "fd5ee5473a0a06110431f08d71c52303",
     "grade": false,
     "grade_id": "cell-e57f6c0a9624dad2",
     "locked": true,
     "schema_version": 3,
     "solution": false,
     "task": false
    }
   },
   "outputs": [],
   "source": [
    "log_expression = np.log(raw_expression + 1)"
   ]
  },
  {
   "cell_type": "markdown",
   "metadata": {
    "deletable": false,
    "editable": false,
    "nbgrader": {
     "cell_type": "markdown",
     "checksum": "aa3d012174527e56bf18c4838a3ed2c3",
     "grade": false,
     "grade_id": "cell-59a013339cc61c6b",
     "locked": true,
     "schema_version": 3,
     "solution": false,
     "task": false
    }
   },
   "source": [
    "# Task 1 - Building a correlation matrix"
   ]
  },
  {
   "cell_type": "markdown",
   "metadata": {
    "deletable": false,
    "editable": false,
    "nbgrader": {
     "cell_type": "markdown",
     "checksum": "9d88793233c5a883d9f2b4d63e96429f",
     "grade": false,
     "grade_id": "cell-b954c8d65c3b252f",
     "locked": true,
     "schema_version": 3,
     "solution": false,
     "task": false
    }
   },
   "source": [
    "## Task 1.1\n",
    "\n",
    "The [FlyAtlas](http://flyatlas.org) dataset contains four biological replicates for each tissue. Combine the biological replicates by calculating the mean expression value for each gene in each tissue."
   ]
  },
  {
   "cell_type": "code",
   "execution_count": null,
   "metadata": {
    "deletable": false,
    "nbgrader": {
     "cell_type": "code",
     "checksum": "9869899032e298979bbe2a00970a5f1f",
     "grade": false,
     "grade_id": "cell-a3615dee5d358672",
     "locked": false,
     "schema_version": 3,
     "solution": true,
     "task": false
    }
   },
   "outputs": [],
   "source": [
    "# ~~ GRADED CELL (2 marks) - complete this cell ~~\n",
    "\n",
    "def average_by_tissue(expression, tissues):\n",
    "    '''\n",
    "        Given a DataFrame of gene expression data, \n",
    "        and a list, array or Series of tissues corresponding to the columns of the dataframe,\n",
    "        average over the expression values in each gene for each tissue type and\n",
    "        return the resulting dataframe. \n",
    "        The columns of the new dataframe should correspond to the provided tissues.\n",
    "    '''\n",
    "\n",
    "    # Exclude null/extreme and incorrect-format input \n",
    "    if  len(tissues)!= 0 and len(tissues) == len(expression.columns) and isinstance(expression, pd.DataFrame) and expression.empty != True:\n",
    "        # keep only one for the repetive column names, while still keeping the original order \n",
    "        lst = []\n",
    "        for c in tissues:\n",
    "            if not c in lst:\n",
    "                lst.append(c)           \n",
    "        # initialize the new dataframe \n",
    "        expression.columns = tissues\n",
    "        idxAverage = expression.index\n",
    "        averaged_expression = pd.DataFrame(columns = lst, index = idxAverage)\n",
    "        # calculate the mean values and put them into the new dataframe \n",
    "        for i in lst:\n",
    "            expressionMean = expression[i].mean(axis = 1)\n",
    "            averaged_expression[i] = expressionMean\n",
    "    \n",
    "        return averaged_expression"
   ]
  },
  {
   "cell_type": "code",
   "execution_count": null,
   "metadata": {
    "deletable": false,
    "editable": false,
    "nbgrader": {
     "cell_type": "code",
     "checksum": "9f9833f71f698cbb25e3271d27fb8a26",
     "grade": true,
     "grade_id": "cell-833bceefc5ce6e32",
     "locked": true,
     "points": 2,
     "schema_version": 3,
     "solution": false,
     "task": false
    }
   },
   "outputs": [],
   "source": [
    "# Testing cell - Do not alter.\n",
    "\n",
    "# Inspect mean expression values for tissue \"Adult Eye\"\n",
    "log_expression_copy = deepcopy(log_expression)\n",
    "mean_tissue_expression = average_by_tissue(log_expression_copy, tissues)\n",
    "\n",
    "print(f'\\n1a student:\\n{mean_tissue_expression[\"Adult Eye\"]}\\n\\n')\n"
   ]
  },
  {
   "cell_type": "markdown",
   "metadata": {
    "deletable": false,
    "editable": false,
    "nbgrader": {
     "cell_type": "markdown",
     "checksum": "c416ae9c7067d7070c8612cc63985370",
     "grade": false,
     "grade_id": "cell-fe5a1b347c8009af",
     "locked": true,
     "schema_version": 3,
     "solution": false,
     "task": false
    }
   },
   "source": [
    "The below test case should return\n",
    "\n",
    "```\n",
    "      A    B\n",
    "0   4.5  2.5\n",
    "1  10.0  7.0\n",
    "```\n"
   ]
  },
  {
   "cell_type": "code",
   "execution_count": null,
   "metadata": {
    "deletable": false,
    "editable": false,
    "nbgrader": {
     "cell_type": "code",
     "checksum": "8b777f0d741f8f15f2350b5c93e2bffa",
     "grade": false,
     "grade_id": "cell-8bb6690334733fb0",
     "locked": true,
     "schema_version": 3,
     "solution": false,
     "task": false
    }
   },
   "outputs": [],
   "source": [
    "test_df = pd.DataFrame([[5,4,3,2],[10,10,6,8]])\n",
    "print(average_by_tissue(test_df, ['A','A','B','B']))"
   ]
  },
  {
   "cell_type": "code",
   "execution_count": null,
   "metadata": {
    "deletable": false,
    "editable": false,
    "nbgrader": {
     "cell_type": "code",
     "checksum": "cead85f28ea9d057d0a8f1654416ee33",
     "grade": false,
     "grade_id": "cell-db55ea51a99ad46e",
     "locked": true,
     "schema_version": 3,
     "solution": false,
     "task": false
    }
   },
   "outputs": [],
   "source": [
    "# Calculate average expression for each tissue in the flyatlas data\n",
    "tissue_expression = average_by_tissue(log_expression, tissues)"
   ]
  },
  {
   "cell_type": "code",
   "execution_count": null,
   "metadata": {
    "deletable": false,
    "editable": false,
    "nbgrader": {
     "cell_type": "code",
     "checksum": "afc669fc117b34a48e8d245296adb4a2",
     "grade": false,
     "grade_id": "cell-25fa2a2dcb6a83a5",
     "locked": true,
     "schema_version": 3,
     "solution": false,
     "task": false
    }
   },
   "outputs": [],
   "source": [
    "# Inspect the new expression dataframe. There should be 34 columns, corresponding to the 34 tissue types.\n",
    "tissue_expression.head()"
   ]
  },
  {
   "cell_type": "markdown",
   "metadata": {
    "deletable": false,
    "editable": false,
    "nbgrader": {
     "cell_type": "markdown",
     "checksum": "c86ed2e41b77f46e32396c43e97c3179",
     "grade": false,
     "grade_id": "cell-d9b47df5734b0b08",
     "locked": true,
     "schema_version": 3,
     "solution": false,
     "task": false
    }
   },
   "source": [
    "## Task 1.2\n",
    "\n",
    "WGCNA starts by building a pairwise correlation matrix of genes. Using the matrix you just created, produce an *unsigned* correlation matrix where each cell contains the absolute value of the correlation coefficients.\n",
    "\n",
    "You can calculate the Pearson correlation values yourself, or look up a numpy or scipy function to do so."
   ]
  },
  {
   "cell_type": "code",
   "execution_count": null,
   "metadata": {
    "deletable": false,
    "nbgrader": {
     "cell_type": "code",
     "checksum": "f4ad439d53b6120b53163bb3b2a805ff",
     "grade": false,
     "grade_id": "cell-41b4fb741f662934",
     "locked": false,
     "schema_version": 3,
     "solution": true,
     "task": false
    }
   },
   "outputs": [],
   "source": [
    "# ~~ GRADED CELL (2 mark) - complete this cell ~~\n",
    "\n",
    "def calculate_unsigned_correlation(expression):\n",
    "    ''' \n",
    "        Produce the unsigned correlation matrix for a table of gene expression values.\n",
    "        Assume that the columns of the expression matrix are samples and the rows are\n",
    "        genes, and return an array of arrays giving the Pearson correlation between each pair of genes,\n",
    "        in the same order as the rows of the expression table.\n",
    "    '''\n",
    "    # YOUR CODE HERE\n",
    "    nparray = expression.to_numpy()\n",
    "    corrMatrix = np.corrcoef(nparray)\n",
    "    with np.nditer(corrMatrix, op_flags=['readwrite']) as it:\n",
    "            for cor in it:\n",
    "                if cor < 0:\n",
    "                    cor[...] = - cor[...]\n",
    "    return corrMatrix\n"
   ]
  },
  {
   "cell_type": "code",
   "execution_count": null,
   "metadata": {
    "deletable": false,
    "editable": false,
    "nbgrader": {
     "cell_type": "code",
     "checksum": "71b29c18726a7dccac6f0220bd81d898",
     "grade": true,
     "grade_id": "cell-3a8be4395e346f38",
     "locked": true,
     "points": 2,
     "schema_version": 3,
     "solution": false,
     "task": false
    }
   },
   "outputs": [],
   "source": [
    "# Testing cell - Do not alter.\n",
    "\n",
    "# Inspect correlation matrix\n",
    "student_correlation_matrix = calculate_unsigned_correlation(mean_tissue_expression)\n",
    "\n",
    "print(f'\\n1b student:\\n{student_correlation_matrix[:5, :5]}\\n\\n')\n"
   ]
  },
  {
   "cell_type": "markdown",
   "metadata": {
    "deletable": false,
    "editable": false,
    "nbgrader": {
     "cell_type": "markdown",
     "checksum": "591a5e1a3208cbc0ed1dccd9db8bfc5a",
     "grade": false,
     "grade_id": "cell-0c52a48e5bf67bac",
     "locked": true,
     "schema_version": 3,
     "solution": false,
     "task": false
    }
   },
   "source": [
    "The below test case should return (if displayed to a precision of two decimal places)\n",
    "\n",
    "```\n",
    "array([[ 1.  ,  0.95,  0.96,  0.44,  0.3 ,  0.15],\n",
    "       [ 0.95,  1.  ,  1.  ,  0.71,  0.59,  0.46],\n",
    "       [ 0.96,  1.  ,  1.  ,  0.67,  0.54,  0.41],\n",
    "       [ 0.44,  0.71,  0.67,  1.  ,  0.99,  0.95],\n",
    "       [ 0.3 ,  0.59,  0.54,  0.99,  1.  ,  0.99],\n",
    "       [ 0.15,  0.46,  0.41,  0.95,  0.99,  1.  ]])\n",
    "```"
   ]
  },
  {
   "cell_type": "code",
   "execution_count": null,
   "metadata": {
    "deletable": false,
    "editable": false,
    "nbgrader": {
     "cell_type": "code",
     "checksum": "cb8a47aedd96a2f33bbb46c7636525d7",
     "grade": false,
     "grade_id": "cell-5e8530bbad96cff6",
     "locked": true,
     "schema_version": 3,
     "solution": false,
     "task": false
    }
   },
   "outputs": [],
   "source": [
    "test_df = pd.DataFrame([[ 3.8,  2.7,  4.5],\n",
    "                       [ 4.3,  3.4,  6.2],\n",
    "                       [ 5.3,  4.3,  7. ],\n",
    "                       [ 4.6,  6. ,  7.7],\n",
    "                       [ 5.2,  7.3,  8.8],\n",
    "                       [ 6.2,  8.5,  9.4]], \n",
    "                         columns=['Tissue1', 'Tissue2', 'Tissue3'],\n",
    "                         index=['GeneA', 'GeneB', 'GeneC', 'GeneD', 'GeneE', 'GeneF'])\n",
    "calculate_unsigned_correlation(test_df)"
   ]
  },
  {
   "cell_type": "markdown",
   "metadata": {
    "deletable": false,
    "editable": false,
    "nbgrader": {
     "cell_type": "markdown",
     "checksum": "5ce5e8385d2171f649b3f63f48d71aca",
     "grade": false,
     "grade_id": "cell-920559df63fc27e0",
     "locked": true,
     "schema_version": 3,
     "solution": false,
     "task": false
    }
   },
   "source": [
    "The below test case should return (if displayed to a precision of two decimal places)\n",
    "\n",
    "```\n",
    "array([[ 1.  ,  0.95,  0.3 ,  0.15],\n",
    "       [ 0.95,  1.  ,  0.59,  0.46],\n",
    "       [ 0.3 ,  0.59,  1.  ,  0.99],\n",
    "       [ 0.15,  0.46,  0.99,  1.  ]])\n",
    "```"
   ]
  },
  {
   "cell_type": "code",
   "execution_count": null,
   "metadata": {
    "deletable": false,
    "editable": false,
    "nbgrader": {
     "cell_type": "code",
     "checksum": "fb1e53a2c694c4076bee757673d082b3",
     "grade": false,
     "grade_id": "cell-c6124cda771e773d",
     "locked": true,
     "schema_version": 3,
     "solution": false,
     "task": false
    }
   },
   "outputs": [],
   "source": [
    "test_df = pd.DataFrame([[ 3.8,  2.7,  4.5],\n",
    "                       [ 4.3,  3.4,  6.2],\n",
    "                       [ 5.2,  7.3,  8.8],\n",
    "                       [ 6.2,  8.5,  9.4]], \n",
    "                         columns=['Tissue1', 'Tissue2', 'Tissue3'],\n",
    "                         index=['GeneA', 'GeneB', 'GeneC', 'GeneD'])\n",
    "calculate_unsigned_correlation(test_df)"
   ]
  },
  {
   "cell_type": "code",
   "execution_count": null,
   "metadata": {
    "deletable": false,
    "editable": false,
    "nbgrader": {
     "cell_type": "code",
     "checksum": "9ef600b1445edcd456256d60546c4c16",
     "grade": false,
     "grade_id": "cell-40d67b2ac97895f2",
     "locked": true,
     "schema_version": 3,
     "solution": false,
     "task": false
    }
   },
   "outputs": [],
   "source": [
    "# Calculate the correlation matrix for the flyatlas data\n",
    "unsigned_correlation = calculate_unsigned_correlation(tissue_expression)\n",
    "_ = plt.hist(unsigned_correlation.flatten(), bins=100)"
   ]
  },
  {
   "cell_type": "markdown",
   "metadata": {
    "deletable": false,
    "editable": false,
    "nbgrader": {
     "cell_type": "markdown",
     "checksum": "8c3bfff7ffeb61b7914877041d5631f9",
     "grade": false,
     "grade_id": "cell-8c51631e1470203c",
     "locked": true,
     "schema_version": 3,
     "solution": false,
     "task": false
    }
   },
   "source": [
    "## TASK 1.3\n",
    "\n",
    "Why are we using an unsigned correlation matrix instead of a signed correlation matrix? (2 marks; 50 words)"
   ]
  },
  {
   "cell_type": "markdown",
   "metadata": {
    "deletable": false,
    "nbgrader": {
     "cell_type": "markdown",
     "checksum": "63f38b70240690098af14b3375c0387d",
     "grade": true,
     "grade_id": "cell-978551c95443e6e6",
     "locked": false,
     "points": 2,
     "schema_version": 3,
     "solution": true,
     "task": false
    }
   },
   "source": [
    "YOUR ANSWER HERE\n",
    "```\n",
    "The adjacency matrix calculation below requires the absolute value of the correlation between genes. Thus, we need the unsigned matrix instead of signed matrix. Besides, we care more about strength of the correlation instead of it's positive or negative (orientation). \n",
    "\n",
    "```"
   ]
  },
  {
   "cell_type": "markdown",
   "metadata": {
    "deletable": false,
    "editable": false,
    "nbgrader": {
     "cell_type": "markdown",
     "checksum": "0993dd14f194b31f6bfb466f0ac1246d",
     "grade": false,
     "grade_id": "cell-d33f93c3ee4c22a5",
     "locked": true,
     "schema_version": 3,
     "solution": false,
     "task": false
    }
   },
   "source": [
    "\n",
    "# Task 2 - Building an adjacency matrix\n",
    "\n",
    "To use the correlation matrix to create a network, we will transform it into an adjacency matrix. You will create two types of adjacency matrix, a binary adjacency matrix and a weighted adjacency matrix."
   ]
  },
  {
   "cell_type": "markdown",
   "metadata": {
    "deletable": false,
    "editable": false,
    "nbgrader": {
     "cell_type": "markdown",
     "checksum": "8e206e3f9a93068f9b3533b9e05fae75",
     "grade": false,
     "grade_id": "cell-de468ee40989a53a",
     "locked": true,
     "schema_version": 3,
     "solution": false,
     "task": false
    }
   },
   "source": [
    "## Task 2.1\n",
    "\n",
    "To create the binary adjacency matrix, transform the correlation matrix such that every correlation greater than or equal to a given threshold value is considered adjacent (represented by a 1 in the matrix), and every correlation below that value is considered not adjacent (represented by a 0). Set the diagonal of the adjacency matrix to 0, so that we don't consider a node to be adjacent to itself."
   ]
  },
  {
   "cell_type": "code",
   "execution_count": null,
   "metadata": {
    "deletable": false,
    "nbgrader": {
     "cell_type": "code",
     "checksum": "0e6c09125f3f9799e2776920b9dd4f91",
     "grade": false,
     "grade_id": "cell-fa521e15007ffe3e",
     "locked": false,
     "schema_version": 3,
     "solution": true,
     "task": false
    }
   },
   "outputs": [],
   "source": [
    "# ~~ GRADED CELL (1 marks) - complete this cell ~~\n",
    "\n",
    "def calculate_binary_adjacencies(correlation, threshold):\n",
    "    '''\n",
    "        Given a correlation matrix between genes of shape (N,N),\n",
    "        return the corresponding binary adjacency matrix of shape (N,N),\n",
    "        where correlation values are above the given threshold.\n",
    "    '''\n",
    "    \n",
    "    # YOUR CODE HERE\n",
    "    # exclude invalid/extreme/null input\n",
    "    if isinstance(correlation, np.ndarray) and np.any(correlation) and (type(threshold) == float or type(threshold) == int):\n",
    "        # iterate through array, compare and then change the values into binary\n",
    "        with np.nditer(correlation, op_flags=['readwrite']) as it:\n",
    "            for cor in it:\n",
    "                if cor >= threshold:\n",
    "                    cor[...] = 1\n",
    "                else:\n",
    "                    cor[...] = 0\n",
    "        np.fill_diagonal(correlation, 0)\n",
    "    return correlation"
   ]
  },
  {
   "cell_type": "code",
   "execution_count": null,
   "metadata": {
    "deletable": false,
    "editable": false,
    "nbgrader": {
     "cell_type": "code",
     "checksum": "0bfdad7866ce6cac444df723c8db488a",
     "grade": true,
     "grade_id": "cell-21efbfeaf0cbdb6f",
     "locked": true,
     "points": 1,
     "schema_version": 3,
     "solution": false,
     "task": false
    }
   },
   "outputs": [],
   "source": [
    "# Testing cell - Do not alter.\n",
    "\n",
    "# Inspect binary adjacency matrix\n",
    "student_binary = calculate_binary_adjacencies(student_correlation_matrix, 0.5)\n",
    "\n",
    "print(f'\\n2a student:\\n{student_binary[:10, :10]}\\n\\n')\n"
   ]
  },
  {
   "cell_type": "markdown",
   "metadata": {
    "deletable": false,
    "editable": false,
    "nbgrader": {
     "cell_type": "markdown",
     "checksum": "2a4984cb65f4d0513157392ae6c055f7",
     "grade": false,
     "grade_id": "cell-aac4970ba0e03f6c",
     "locked": true,
     "schema_version": 3,
     "solution": false,
     "task": false
    }
   },
   "source": [
    "The below test case should return (if displayed to a precision of two decimal places)\n",
    "\n",
    "```\n",
    "array([[ 0.,  1.,  0.,  0.],\n",
    "       [ 1.,  0.,  1.,  0.],\n",
    "       [ 0.,  1.,  0.,  1.],\n",
    "       [ 0.,  0.,  1.,  0.]])\n",
    "```"
   ]
  },
  {
   "cell_type": "code",
   "execution_count": null,
   "metadata": {
    "deletable": false,
    "editable": false,
    "nbgrader": {
     "cell_type": "code",
     "checksum": "ee11485809b991b6d39a18591672af56",
     "grade": false,
     "grade_id": "cell-363aa714c13549b6",
     "locked": true,
     "schema_version": 3,
     "solution": false,
     "task": false
    }
   },
   "outputs": [],
   "source": [
    "test_corr = np.array([[ 1.  ,  0.95,  0.3 ,  0.15],\n",
    "       [ 0.95,  1.  ,  0.59,  0.46],\n",
    "       [ 0.3 ,  0.59,  1.  ,  0.99],\n",
    "       [ 0.15,  0.46,  0.99,  1.  ]])\n",
    "calculate_binary_adjacencies(test_corr, 0.5)"
   ]
  },
  {
   "cell_type": "markdown",
   "metadata": {
    "deletable": false,
    "editable": false,
    "nbgrader": {
     "cell_type": "markdown",
     "checksum": "e376b4a0101dbb28b34f079e64da1d3a",
     "grade": false,
     "grade_id": "cell-327d122cb9da8eae",
     "locked": true,
     "schema_version": 3,
     "solution": false,
     "task": false
    }
   },
   "source": [
    "The below test case should return (if displayed to a precision of two decimal places)\n",
    "\n",
    "```\n",
    "array([[ 0.,  1.,  0.,  0.],\n",
    "       [ 1.,  0.,  0.,  0.],\n",
    "       [ 0.,  0.,  0.,  1.],\n",
    "       [ 0.,  0.,  1.,  0.]])\n",
    "```"
   ]
  },
  {
   "cell_type": "code",
   "execution_count": null,
   "metadata": {
    "deletable": false,
    "editable": false,
    "nbgrader": {
     "cell_type": "code",
     "checksum": "82d218248605ad6a63e5e4e9704d7611",
     "grade": false,
     "grade_id": "cell-326a135aa20f10ba",
     "locked": true,
     "schema_version": 3,
     "solution": false,
     "task": false
    }
   },
   "outputs": [],
   "source": [
    "test_corr = np.array([[ 1.  ,  0.95,  0.3 ,  0.15],\n",
    "       [ 0.95,  1.  ,  0.59,  0.46],\n",
    "       [ 0.3 ,  0.59,  1.  ,  0.99],\n",
    "       [ 0.15,  0.46,  0.99,  1.  ]])\n",
    "calculate_binary_adjacencies(test_corr, 0.6)"
   ]
  },
  {
   "cell_type": "code",
   "execution_count": null,
   "metadata": {
    "deletable": false,
    "editable": false,
    "nbgrader": {
     "cell_type": "code",
     "checksum": "d26973888fe131073ed0c5714cb8cc22",
     "grade": false,
     "grade_id": "cell-5c505f12af6fc73c",
     "locked": true,
     "schema_version": 3,
     "solution": false,
     "task": false
    }
   },
   "outputs": [],
   "source": [
    "# Calculate the binary adjacency matrix for the flyatlas data\n",
    "adjacency_binary = calculate_binary_adjacencies(unsigned_correlation, 0.85)"
   ]
  },
  {
   "cell_type": "markdown",
   "metadata": {
    "deletable": false,
    "editable": false,
    "nbgrader": {
     "cell_type": "markdown",
     "checksum": "5566a75250c6788a8dc2e7d7dfc991ba",
     "grade": false,
     "grade_id": "cell-e1268118d856f494",
     "locked": true,
     "schema_version": 3,
     "solution": false,
     "task": false
    }
   },
   "source": [
    "## Task 2.2\n",
    "\n",
    "Calculate the connectivity of the adjacency matrix by dividing the total number of edges by the number of possible edges."
   ]
  },
  {
   "cell_type": "code",
   "execution_count": null,
   "metadata": {
    "deletable": false,
    "nbgrader": {
     "cell_type": "code",
     "checksum": "637db1f768c5c5ef4a5f54dd6b0fbc13",
     "grade": false,
     "grade_id": "cell-4e05592fc5d54ae7",
     "locked": false,
     "schema_version": 3,
     "solution": true,
     "task": false
    }
   },
   "outputs": [],
   "source": [
    "# ~~ GRADED CELL (1 mark) - complete this cell ~~\n",
    "\n",
    "def calculate_connectivity(adjacency):\n",
    "    '''\n",
    "        Calculate the number of edges that exist in a given binary adjacency matrix,\n",
    "        divided by the total number of possible edges between all nodes.\n",
    "    '''\n",
    "    \n",
    "    # YOUR CODE HERE\n",
    "    # exclude invalid input\n",
    "    if isinstance(adjacency, np.ndarray) and np.any(adjacency):\n",
    "        edges = (adjacency.sum() - np.trace(adjacency)) / 2\n",
    "        possible_edges = adjacency.shape[0] * (adjacency.shape[0] - 1) / 2\n",
    "    \n",
    "    return edges / possible_edges"
   ]
  },
  {
   "cell_type": "code",
   "execution_count": null,
   "metadata": {
    "deletable": false,
    "editable": false,
    "nbgrader": {
     "cell_type": "code",
     "checksum": "b900a4bdb5cc98feca357818a54eceff",
     "grade": true,
     "grade_id": "cell-cfa0f8431cec4367",
     "locked": true,
     "points": 1,
     "schema_version": 3,
     "solution": false,
     "task": false
    }
   },
   "outputs": [],
   "source": [
    "# Testing cell - Do not alter.\n",
    "\n",
    "# Check connectivity for our ajacency matrix\n",
    "\n",
    "student_connectivity = calculate_connectivity(student_binary)\n",
    "print(f'\\n2b student:\\n{student_connectivity}\\n\\n')\n"
   ]
  },
  {
   "cell_type": "code",
   "execution_count": null,
   "metadata": {
    "deletable": false,
    "editable": false,
    "nbgrader": {
     "cell_type": "code",
     "checksum": "e5c0c246991754a19ecdfdb6d2d6397e",
     "grade": false,
     "grade_id": "cell-f4e2ea68f06f5818",
     "locked": true,
     "schema_version": 3,
     "solution": false,
     "task": false
    }
   },
   "outputs": [],
   "source": [
    "# Should return 0.5\n",
    "calculate_connectivity(np.array([[ 0.,  1.,  0.,  0.],\n",
    "                                   [ 1.,  0.,  1.,  0.],\n",
    "                                   [ 0.,  1.,  0.,  1.],\n",
    "                                   [ 0.,  0.,  1.,  0.]]))"
   ]
  },
  {
   "cell_type": "code",
   "execution_count": null,
   "metadata": {
    "deletable": false,
    "editable": false,
    "nbgrader": {
     "cell_type": "code",
     "checksum": "12c52868f2924c76463d926030bf5ccf",
     "grade": false,
     "grade_id": "cell-600eeb15681ef2de",
     "locked": true,
     "schema_version": 3,
     "solution": false,
     "task": false
    }
   },
   "outputs": [],
   "source": [
    "# Should return 0.33\n",
    "calculate_connectivity(np.array([[ 0.,  1.,  0.,  0.],\n",
    "                                   [ 1.,  0.,  0.,  0.],\n",
    "                                   [ 0.,  0.,  0.,  1.],\n",
    "                                   [ 0.,  0.,  1.,  0.]]))"
   ]
  },
  {
   "cell_type": "code",
   "execution_count": null,
   "metadata": {
    "deletable": false,
    "editable": false,
    "nbgrader": {
     "cell_type": "code",
     "checksum": "22c2bc796ff2e3a4d5af024c0c5384f6",
     "grade": false,
     "grade_id": "cell-0c09fb259b728e38",
     "locked": true,
     "schema_version": 3,
     "solution": false,
     "task": false
    }
   },
   "outputs": [],
   "source": [
    "# Calculate connectivity for the flyatlas binary adjacency matrix \n",
    "calculate_connectivity(adjacency_binary)"
   ]
  },
  {
   "cell_type": "markdown",
   "metadata": {
    "deletable": false,
    "editable": false,
    "nbgrader": {
     "cell_type": "markdown",
     "checksum": "c2cd1eac25a7a3642e87f970ebdf8713",
     "grade": false,
     "grade_id": "cell-81efd5bfef073373",
     "locked": true,
     "schema_version": 3,
     "solution": false,
     "task": false
    }
   },
   "source": [
    "## Task 2.3\n",
    "\n",
    "The weighted adjacency matrix can be created by raising the correlation matrix to some power. Write a function that raises the correlation matrix to some power, `beta`, and sets the diagonal to `0`. For the rest of the assignment we will use `beta = 4` but your function should accept any integer."
   ]
  },
  {
   "cell_type": "code",
   "execution_count": null,
   "metadata": {
    "deletable": false,
    "nbgrader": {
     "cell_type": "code",
     "checksum": "25722d219c8837c5a84e7d4078f1a73a",
     "grade": false,
     "grade_id": "cell-bd445cb31700b271",
     "locked": false,
     "schema_version": 3,
     "solution": true,
     "task": false
    }
   },
   "outputs": [],
   "source": [
    "# ~~ GRADED CELL (2 marks) - complete this cell ~~\n",
    "\n",
    "def calculate_weighted_adjacencies(correlation, beta):\n",
    "    '''\n",
    "        Given a correlation matrix between genes of shape (N,N),\n",
    "        return the corresponding binary adjacency matrix of shape (N,N),\n",
    "        where we use a power-law soft threshold with parameter beta.\n",
    "    '''\n",
    "\n",
    "    # YOUR CODE HERE\n",
    "    # exclude invalid input\n",
    "    if isinstance(correlation, np.ndarray) and np.any(correlation):\n",
    "        weighted_adj_matrix = pow(correlation, beta)\n",
    "        weighted_adj_matrix = np.round(weighted_adj_matrix, 2)\n",
    "        np.fill_diagonal(weighted_adj_matrix, 0)\n",
    "\n",
    "    return weighted_adj_matrix"
   ]
  },
  {
   "cell_type": "code",
   "execution_count": null,
   "metadata": {
    "deletable": false,
    "editable": false,
    "nbgrader": {
     "cell_type": "code",
     "checksum": "cca3618fac2fc5122f6c6aec883161f6",
     "grade": true,
     "grade_id": "cell-95fda82585efc9bc",
     "locked": true,
     "points": 2,
     "schema_version": 3,
     "solution": false,
     "task": false
    }
   },
   "outputs": [],
   "source": [
    "# Testing cell - Do not alter.\n",
    "\n",
    "# Inspect weighted ajacencies\n",
    "\n",
    "student_weighted_adjacencies = calculate_weighted_adjacencies(student_correlation_matrix, 4)\n",
    "print(f'\\n2c student:\\n{student_weighted_adjacencies[:5, :5]}\\n\\n')\n"
   ]
  },
  {
   "cell_type": "markdown",
   "metadata": {
    "deletable": false,
    "editable": false,
    "nbgrader": {
     "cell_type": "markdown",
     "checksum": "c3b8e2f7c53a781055ae3f9f08bba0cf",
     "grade": false,
     "grade_id": "cell-fcc76475b7cd77aa",
     "locked": true,
     "schema_version": 3,
     "solution": false,
     "task": false
    }
   },
   "source": [
    "The below test case should return (if displayed to a precision of two decimal places)\n",
    "\n",
    "```\n",
    "array([[ 0.  ,  0.9 ,  0.09,  0.02],\n",
    "       [ 0.9 ,  0.  ,  0.35,  0.21],\n",
    "       [ 0.09,  0.35,  0.  ,  0.98],\n",
    "       [ 0.02,  0.21,  0.98,  0.  ]])\n",
    "```"
   ]
  },
  {
   "cell_type": "code",
   "execution_count": null,
   "metadata": {
    "deletable": false,
    "editable": false,
    "nbgrader": {
     "cell_type": "code",
     "checksum": "bcf3df3d4d37e6e63db5dbb92ac3e330",
     "grade": false,
     "grade_id": "cell-2bf65ca2c78480e5",
     "locked": true,
     "schema_version": 3,
     "solution": false,
     "task": false
    }
   },
   "outputs": [],
   "source": [
    "test_corr = np.array([[ 1.  ,  0.95,  0.3 ,  0.15],\n",
    "       [ 0.95,  1.  ,  0.59,  0.46],\n",
    "       [ 0.3 ,  0.59,  1.  ,  0.99],\n",
    "       [ 0.15,  0.46,  0.99,  1.  ]])\n",
    "calculate_weighted_adjacencies(test_corr, 2)"
   ]
  },
  {
   "cell_type": "markdown",
   "metadata": {
    "deletable": false,
    "editable": false,
    "nbgrader": {
     "cell_type": "markdown",
     "checksum": "4bc777c11507214d572221d247142d2f",
     "grade": false,
     "grade_id": "cell-fd45d250d146bea0",
     "locked": true,
     "schema_version": 3,
     "solution": false,
     "task": false
    }
   },
   "source": [
    "The below test case should return (if displayed to a precision of two decimal places)\n",
    "\n",
    "```\n",
    "array([[ 0.  ,  0.86,  0.03,  0.  ],\n",
    "       [ 0.86,  0.  ,  0.21,  0.1 ],\n",
    "       [ 0.03,  0.21,  0.  ,  0.97],\n",
    "       [ 0.  ,  0.1 ,  0.97,  0.  ]])\n",
    "```"
   ]
  },
  {
   "cell_type": "code",
   "execution_count": null,
   "metadata": {
    "deletable": false,
    "editable": false,
    "nbgrader": {
     "cell_type": "code",
     "checksum": "fb7123b46d11975ee43382ff55d41427",
     "grade": false,
     "grade_id": "cell-8b9699eaea65fe0e",
     "locked": true,
     "schema_version": 3,
     "solution": false,
     "task": false
    }
   },
   "outputs": [],
   "source": [
    "test_corr = np.array([[ 1.  ,  0.95,  0.3 ,  0.15],\n",
    "       [ 0.95,  1.  ,  0.59,  0.46],\n",
    "       [ 0.3 ,  0.59,  1.  ,  0.99],\n",
    "       [ 0.15,  0.46,  0.99,  1.  ]])\n",
    "calculate_weighted_adjacencies(test_corr, 3)"
   ]
  },
  {
   "cell_type": "code",
   "execution_count": null,
   "metadata": {
    "deletable": false,
    "editable": false,
    "nbgrader": {
     "cell_type": "code",
     "checksum": "2a7f32912e016bde4ab65c380db3c818",
     "grade": false,
     "grade_id": "cell-f716ca3ad4bb826f",
     "locked": true,
     "schema_version": 3,
     "solution": false,
     "task": false
    }
   },
   "outputs": [],
   "source": [
    "# Calculate the weighted adjacency matrix for the flyatlas data\n",
    "adjacency_weighted = calculate_weighted_adjacencies(unsigned_correlation, 4)"
   ]
  },
  {
   "cell_type": "markdown",
   "metadata": {
    "deletable": false,
    "editable": false,
    "nbgrader": {
     "cell_type": "markdown",
     "checksum": "85dcd70d668568a600e21160ac227785",
     "grade": false,
     "grade_id": "cell-cfa73cd4a61474d8",
     "locked": true,
     "schema_version": 3,
     "solution": false,
     "task": false
    }
   },
   "source": [
    "## Task 2.4\n",
    "\n",
    "How do you expect the network connectivity would change if the threshold for the binary adjacency matrix is increased or decreased? (2 marks; 50 words)\n"
   ]
  },
  {
   "cell_type": "markdown",
   "metadata": {
    "deletable": false,
    "nbgrader": {
     "cell_type": "markdown",
     "checksum": "43f1de19b02da3c3b58db20b9d2e3eee",
     "grade": true,
     "grade_id": "cell-75bfdddea999a2d9",
     "locked": false,
     "points": 2,
     "schema_version": 3,
     "solution": true,
     "task": false
    }
   },
   "source": [
    "If threshold is increased, connectivity will be decreased. Connectivity = number_of_edges/number_of_possible_edges. If threshold increased, then the number of edges is decreased while number of possible edges remains unchanged. Hence connectivity is decreased along. So too, if threshold decreased then connectivity will be increased.  "
   ]
  },
  {
   "cell_type": "markdown",
   "metadata": {
    "deletable": false,
    "editable": false,
    "nbgrader": {
     "cell_type": "markdown",
     "checksum": "079d614b97128ab6150d44c5a82c42d1",
     "grade": false,
     "grade_id": "cell-9766cdd7b78469d8",
     "locked": true,
     "schema_version": 3,
     "solution": false,
     "task": false
    }
   },
   "source": [
    "# Task 3 - Dimensionality Reduction\n",
    "\n",
    "In this task we will be performing Priciple Components Analysis to determine which gene in the first principle component has the highest contribution to the variance."
   ]
  },
  {
   "cell_type": "markdown",
   "metadata": {
    "deletable": false,
    "editable": false,
    "nbgrader": {
     "cell_type": "markdown",
     "checksum": "512240771585107b948caa2786c87cc5",
     "grade": false,
     "grade_id": "cell-cf5d86436fa52fcf",
     "locked": true,
     "schema_version": 3,
     "solution": false,
     "task": false
    }
   },
   "source": [
    "## Task 3.1\n",
    "\n",
    "Perform a Principle Components Analysis on the log_expression matrix with the correct number of components to explain 90% of the variance, and print the explained variance by component list."
   ]
  },
  {
   "cell_type": "code",
   "execution_count": null,
   "metadata": {
    "deletable": false,
    "nbgrader": {
     "cell_type": "code",
     "checksum": "c5309c3651197564ed46ddbb8b1fbe92",
     "grade": false,
     "grade_id": "cell-8a15462241cbcb53",
     "locked": false,
     "schema_version": 3,
     "solution": true,
     "task": false
    }
   },
   "outputs": [],
   "source": [
    "# ~~ GRADED CELL (2 marks) - complete this cell ~~\n",
    "\n",
    "'''\n",
    "    Hints: \n",
    "    - Your solution should set a variable 'n' where n is the \n",
    "    number of components required to explain 90% of the variance.\n",
    "    - You may use the sklearn 'PCA' function we imported earlier. \n",
    "'''\n",
    "\n",
    "# Initiation\n",
    "pca = PCA()\n",
    "expression_pca = pca.fit_transform(log_expression.T.to_numpy())\n",
    "var = 0\n",
    "n = 0\n",
    "# increase the value of n by 1, stop until n explaining 90% of the variance\n",
    "while var < 0.9:\n",
    "    var += pca.explained_variance_ratio_[n]\n",
    "    n += 1\n",
    "# update PCA with the correct number of components, namely, 'n' explaining 90% of the variance\n",
    "pca = PCA(n_components = n)\n",
    "expression_pca = pca.fit_transform(log_expression.T.to_numpy())"
   ]
  },
  {
   "cell_type": "code",
   "execution_count": null,
   "metadata": {
    "deletable": false,
    "editable": false,
    "nbgrader": {
     "cell_type": "code",
     "checksum": "afd3af9dbbaeea6f66992a9fa1651a11",
     "grade": true,
     "grade_id": "cell-9b0bb6fac81402b9",
     "locked": true,
     "points": 2,
     "schema_version": 3,
     "solution": false,
     "task": false
    }
   },
   "outputs": [],
   "source": [
    "# Testing cell - Do not alter.\n",
    "\n",
    "print(f'\\nExpected components: {n}')\n",
    "print(f'\\nVariance ratio: {pca.explained_variance_ratio_}')\n",
    "print(f'\\nExplained variance: {pca.explained_variance_}')\n"
   ]
  },
  {
   "cell_type": "markdown",
   "metadata": {
    "deletable": false,
    "editable": false,
    "nbgrader": {
     "cell_type": "markdown",
     "checksum": "cb6bbea69e7fa1bab6bb55d96fc6a5d8",
     "grade": false,
     "grade_id": "cell-9905adc04cc473a7",
     "locked": true,
     "schema_version": 3,
     "solution": false,
     "task": false
    }
   },
   "source": [
    "## Task 3.2\n",
    "\n",
    "**Print** the gene that contributes most to the first eigenvector (the first principle component) of the PCA."
   ]
  },
  {
   "cell_type": "code",
   "execution_count": null,
   "metadata": {
    "deletable": false,
    "nbgrader": {
     "cell_type": "code",
     "checksum": "756c816abf5471d064e687284d51cafd",
     "grade": false,
     "grade_id": "cell-f56a750d13b01a22",
     "locked": false,
     "schema_version": 3,
     "solution": true,
     "task": false
    }
   },
   "outputs": [],
   "source": [
    "# ~~ GRADED CELL (2 marks) - complete this cell ~~\n",
    "\n",
    "# YOUR CODE HERE\n",
    "df = pd.DataFrame(expression_pca)\n",
    "#  find the name(index) of the feature with the highest feature score on pc1\n",
    "most_important = np.abs(pca.components_[0]).argmax()\n",
    "gene = log_expression.index[most_important]\n",
    "print(f'Gene that contributes most to the first eigenvector: {gene}')\n"
   ]
  },
  {
   "cell_type": "code",
   "execution_count": null,
   "metadata": {
    "deletable": false,
    "editable": false,
    "nbgrader": {
     "cell_type": "code",
     "checksum": "767bf9b09bb5d5b1cc65bde1487f5013",
     "grade": true,
     "grade_id": "cell-4cb7d08ba4e2160e",
     "locked": true,
     "points": 2,
     "schema_version": 3,
     "solution": false,
     "task": false
    }
   },
   "outputs": [],
   "source": [
    "# Testing cell - Do not alter.\n",
    "\n"
   ]
  },
  {
   "cell_type": "markdown",
   "metadata": {
    "deletable": false,
    "editable": false,
    "nbgrader": {
     "cell_type": "markdown",
     "checksum": "d68819482c47b54f9c3d45e2e49f947a",
     "grade": false,
     "grade_id": "cell-9662ebc1ea0b2a87",
     "locked": true,
     "schema_version": 3,
     "solution": false,
     "task": false
    }
   },
   "source": [
    "# Task 4 - Graph Metrics\n",
    "\n",
    "Graph metrics are important parameters to assist in characterising a network as a whole or even the relative importance of specific nodes in a network and could give us hints regarding their importance.\n"
   ]
  },
  {
   "cell_type": "markdown",
   "metadata": {
    "deletable": false,
    "editable": false,
    "nbgrader": {
     "cell_type": "markdown",
     "checksum": "a612b528783b8765237eeb08eaf24744",
     "grade": false,
     "grade_id": "cell-c32462766202fcb9",
     "locked": true,
     "schema_version": 3,
     "solution": false,
     "task": false
    }
   },
   "source": [
    "## Task 4.1\n",
    "\n",
    "Normalised Degree Centrality\n",
    "\n",
    "Describe an algorithm in pseudocode that returns the normalised degree centrality of a node (degree divided by the maximum node degree in the graph), receiving as parameters a node index **i** and its binary adjacency matrix **m**."
   ]
  },
  {
   "cell_type": "markdown",
   "metadata": {
    "deletable": false,
    "nbgrader": {
     "cell_type": "markdown",
     "checksum": "35e4dddfa5561e232ae4a1a2d1eb9d77",
     "grade": true,
     "grade_id": "cell-c8a43b562f4a2979",
     "locked": false,
     "points": 2,
     "schema_version": 3,
     "solution": true,
     "task": false
    }
   },
   "source": [
    "YOUR ANSWER HERE  \n",
    "```\n",
    "// As for directed graph, we write this function based on formula:normalised D(i)=degree(i)/max_degree(i).\n",
    "\n",
    "function normalised_degree_centrality(i, m):  \n",
    "    n = length(m)    // length(m) calculates the length of dimention of m, n is number of vertices\n",
    "    max_degree = n - 1  \n",
    "    degree = 0\n",
    "    for x = 1 to n:       // this loop calculate the sum of the values on the row of index i\n",
    "        degree = degree + m[i][x]  \n",
    "    normalised_degree_centrality = degree/max_degree  \n",
    "    return normalised_degree_centrality\n",
    "       \n",
    "```    \n",
    "    \n"
   ]
  },
  {
   "cell_type": "markdown",
   "metadata": {
    "deletable": false,
    "editable": false,
    "nbgrader": {
     "cell_type": "markdown",
     "checksum": "ba927f73bcb1acbefb6f4950257c59e9",
     "grade": false,
     "grade_id": "cell-c3226eb5f46f9158",
     "locked": true,
     "schema_version": 3,
     "solution": false,
     "task": false
    }
   },
   "source": [
    "## Task 4.2\n",
    "\n",
    "Closeness Centrality\n",
    "\n",
    "Describe an algorithm in pseudocode that returns the closeness centrality of a node, receiving as parameters a node index **i** and its binary adjacency matrix **m**. As part of your answer you can assume the function *min_dist(a,b,m)* is available. This function will return the minimum distance between nodes a and b in a graph represented by the adjecendy matrix m. (2 marks)"
   ]
  },
  {
   "cell_type": "markdown",
   "metadata": {
    "deletable": false,
    "nbgrader": {
     "cell_type": "markdown",
     "checksum": "bd0c3e7365b34b7612f504b04a09fe72",
     "grade": true,
     "grade_id": "cell-a19ccbd932a0d972",
     "locked": false,
     "points": 2,
     "schema_version": 3,
     "solution": true,
     "task": false
    }
   },
   "source": [
    "YOUR ANSWER HERE\n",
    "```\n",
    "function closeness_centrality(i, m):\n",
    "    n = length(m)    // length(m) calculates the length of dimention of m, n is number of vertices\n",
    "    distance = 0\n",
    "    for v from 1 to n:\n",
    "        if v != i then:\n",
    "            distance = distance + min_dist(i,v,m)\n",
    "    closeness_centrality = 1/distance\n",
    "    return closeness_centrality\n",
    "```"
   ]
  },
  {
   "cell_type": "markdown",
   "metadata": {
    "deletable": false,
    "editable": false,
    "nbgrader": {
     "cell_type": "markdown",
     "checksum": "7e68e6464ecf554ababec1ba965fa534",
     "grade": false,
     "grade_id": "cell-d901955187ee8c78",
     "locked": true,
     "schema_version": 3,
     "solution": false,
     "task": false
    }
   },
   "source": [
    "## Task 4.3\n",
    "\n",
    "Clustering Coefficient and Average Path Length are two important properties to distinguish between different network types.\n",
    "\n",
    "Consider that you are working with a particular biological network. Describe briefly, with your own words, how would you use these properties to verify whether your network is consistent with a Random Network, Small-World Network or Regular Lattice Network. (Maximum 150 words).\n"
   ]
  },
  {
   "cell_type": "markdown",
   "metadata": {
    "deletable": false,
    "nbgrader": {
     "cell_type": "markdown",
     "checksum": "b244e0c7e328e9a92cf08356f389c45e",
     "grade": true,
     "grade_id": "cell-b00503b6cc54d679",
     "locked": false,
     "points": 4,
     "schema_version": 3,
     "solution": true,
     "task": false
    }
   },
   "source": [
    "YOUR ANSWER HERE\n",
    "```\n",
    "N = number of nodes; C: clustering coefficient; L = Average Path Length; p: Probability of neighbours being connected: K: k-nearest neighbors \n",
    "\n",
    "If the network has low C and low L, where L ≈ log(N),then it's a Random Network. This is because edges are formed randomly with uniform probability.\n",
    "If the network has high C (C >> the C of Random Network)and low L (L≈ the L of Random Network), then it's a Small-World Network. \n",
    "If the network has high C (C >> the C of Random Network) and high L (L >> the L of Random Network), it's a Regular Lattice Network.This is because L ≈ N/2K, which is greater than that in a Ramdom Network.\n",
    "```"
   ]
  },
  {
   "cell_type": "markdown",
   "metadata": {
    "deletable": false,
    "editable": false,
    "nbgrader": {
     "cell_type": "markdown",
     "checksum": "d55794d7ccf20dc32024c3255a8676b7",
     "grade": false,
     "grade_id": "cell-13b7ccc296a8bdad",
     "locked": true,
     "schema_version": 3,
     "solution": false,
     "task": false
    }
   },
   "source": [
    "# Part II\n",
    "\n",
    "## Genome assembly\n",
    "\n",
    "Provide short answers to the following questions about genome assembly algorithms.\n"
   ]
  },
  {
   "cell_type": "markdown",
   "metadata": {
    "deletable": false,
    "editable": false,
    "nbgrader": {
     "cell_type": "markdown",
     "checksum": "dfa45ba5f8848801f2a098f634b008ad",
     "grade": false,
     "grade_id": "cell-5489036e37a5bedf",
     "locked": true,
     "schema_version": 3,
     "solution": false,
     "task": false
    }
   },
   "source": [
    "### Question 5a.\n",
    "\n",
    "Despite being slow, overlap-layout-consensus assembly algorithms can tolerate high error rates in the sequencing reads. How do these algorithms handle sequencing errors **during graph construction**? (50 words; 4 marks)\n"
   ]
  },
  {
   "cell_type": "markdown",
   "metadata": {
    "deletable": false,
    "nbgrader": {
     "cell_type": "markdown",
     "checksum": "e80ca6b65f1df0135bfd226232b0ec36",
     "grade": true,
     "grade_id": "cell-087924a457237204",
     "locked": false,
     "points": 4,
     "schema_version": 3,
     "solution": true,
     "task": false
    }
   },
   "source": [
    "YOUR ANSWER HERE\n",
    "```\n",
    "OLC has build,simplify and traverse steps. The layout process is Hamiltonian path. OLC will get transitively-inferrible edges removed. After layout, it will trace a sensible path to call a consensus. Also, in overlap detection OLC allows a few mismatches and producing a single path of nodes.  \n",
    "```"
   ]
  },
  {
   "cell_type": "markdown",
   "metadata": {
    "deletable": false,
    "editable": false,
    "nbgrader": {
     "cell_type": "markdown",
     "checksum": "6bcd3286b033e16d0a66487aa21fff0b",
     "grade": false,
     "grade_id": "cell-2180918320190089",
     "locked": true,
     "schema_version": 3,
     "solution": false,
     "task": false
    }
   },
   "source": [
    "### Question 5b.\n",
    "\n",
    "In general, why is it faster to construct a de Bruijn graph of *k*-mers than to construct a graph of read overlaps? (50 words; 4 marks)"
   ]
  },
  {
   "cell_type": "markdown",
   "metadata": {
    "deletable": false,
    "nbgrader": {
     "cell_type": "markdown",
     "checksum": "e3dafeb219bb953b9c0c61157471d6eb",
     "grade": true,
     "grade_id": "cell-35fa4cc0e65fec1e",
     "locked": false,
     "points": 4,
     "schema_version": 3,
     "solution": true,
     "task": false
    }
   },
   "source": [
    "YOUR ANSWER HERE\n",
    "```\n",
    "Constructing a graph of read overlaps relies on all-vs-all pairwise comparison on reads, which leads to a lot of computation. In contrast, de Bruijn chops reads into k-mers and records their neighboring relations simultaneously. Also, after layout OLC calls consensus sequence from alignments, while k-mers has consensus information already.\n",
    "```\n"
   ]
  },
  {
   "cell_type": "markdown",
   "metadata": {
    "deletable": false,
    "editable": false,
    "nbgrader": {
     "cell_type": "markdown",
     "checksum": "9caadfd0759b998fb4f5f7e9178c2d0a",
     "grade": false,
     "grade_id": "cell-55373e8b83b9955d",
     "locked": true,
     "schema_version": 3,
     "solution": false,
     "task": false
    }
   },
   "source": [
    "### Question 5c.\n",
    "\n",
    "Remember that in the worst case, a single error in a sequencing read will generate *k* erroneous *k*-mers. Describe how these incorrect *k*-mers will appear in the de Bruijn graph. (100 words; 5 marks)\n"
   ]
  },
  {
   "cell_type": "markdown",
   "metadata": {
    "deletable": false,
    "nbgrader": {
     "cell_type": "markdown",
     "checksum": "38beafea48e66de130ed6c5aa4eb1b99",
     "grade": true,
     "grade_id": "cell-737a88be0a03297a",
     "locked": false,
     "points": 5,
     "schema_version": 3,
     "solution": true,
     "task": false
    }
   },
   "source": [
    "YOUR ANSWER HERE\n",
    "```\n",
    "k erroneous k-mers will create an alternative route formed by these erroneous k-mers connected in series one by one. \n",
    "For example, if a read AATCGGG was sequenced as AATTGGG, then it generates 3 erroneous 3-mers which are ATT, TTG, TGG, then these 3 3-mers will one-by-one connect in series to create an alternate route between node AT and GG.\n",
    "```\n"
   ]
  },
  {
   "cell_type": "markdown",
   "metadata": {
    "deletable": false,
    "editable": false,
    "nbgrader": {
     "cell_type": "markdown",
     "checksum": "7625facb1227b31b7b9230918b4fb9c8",
     "grade": false,
     "grade_id": "cell-c53a07dd6b7c55d6",
     "locked": true,
     "schema_version": 3,
     "solution": false,
     "task": false
    }
   },
   "source": [
    "### Question 5d. \n",
    "\n",
    "If the sequencing error rate is low, and your read depth is high, how could an algorithm deal with the issues you described in Question 5c during graph simplification? (50 words; 5 marks)\n"
   ]
  },
  {
   "cell_type": "markdown",
   "metadata": {
    "deletable": false,
    "nbgrader": {
     "cell_type": "markdown",
     "checksum": "c2df55fa70cafd0ecb46ef3958123a37",
     "grade": true,
     "grade_id": "cell-2b8d006aca1417da",
     "locked": false,
     "points": 4,
     "schema_version": 3,
     "solution": true,
     "task": false
    }
   },
   "source": [
    "```\n",
    "We can apply weight calculated by the supporting read-depth, which means edges with higher read depth have more weight than others. If an edge has low weight, we can delete it.\n",
    "```"
   ]
  },
  {
   "cell_type": "markdown",
   "metadata": {
    "deletable": false,
    "editable": false,
    "nbgrader": {
     "cell_type": "markdown",
     "checksum": "94b508071143c070acc1331d2f934818",
     "grade": false,
     "grade_id": "cell-c6709250d0437b4a",
     "locked": true,
     "schema_version": 3,
     "solution": false,
     "task": false
    }
   },
   "source": [
    "### Question 5e.\n",
    "\n",
    "You are assembling a genome for a newly-discovered native bee species. Male bees of this species are haploid, meaning they have no heterozygosity.\n",
    "\n",
    "You have received 12 gigabases ($12 \\times 10^{9} \\text{ bases}$) of 100 b sequencing reads, which were produced from DNA from a single male bee.\n",
    "\n",
    "From these reads, you produce a *k*-mer depth spectrum using $k = 51$. The main peak on the spectrum is at a depth of 40.\n",
    "\n",
    "Estimate the size of the bee's genome. Hint: you could start by calculating the number of reads. (2 marks)\n"
   ]
  },
  {
   "cell_type": "markdown",
   "metadata": {
    "deletable": false,
    "nbgrader": {
     "cell_type": "markdown",
     "checksum": "a2dd94c2f9c8c40a91215b599690cc63",
     "grade": true,
     "grade_id": "cell-b3bb435c5791081a",
     "locked": false,
     "points": 2,
     "schema_version": 3,
     "solution": true,
     "task": false
    }
   },
   "source": [
    "YOUR ANSWER HERE\n",
    "```\n",
    "Number of reads: 12*10^9/ 100 = 12*10^7\n",
    "Genome size ≈ Number of reads * (read length-k+1) / Dk = 12*10^7 * (100-51+1) / 40 = 15*10^7 b\n",
    "Hence the answer is 15*10^7 b\n",
    "```"
   ]
  },
  {
   "cell_type": "markdown",
   "metadata": {
    "deletable": false,
    "editable": false,
    "nbgrader": {
     "cell_type": "markdown",
     "checksum": "ed72a7c05735aabea07f17fc245dec73",
     "grade": false,
     "grade_id": "cell-cc1ccf870c8c30b8",
     "locked": true,
     "schema_version": 3,
     "solution": false,
     "task": false
    }
   },
   "source": [
    "Question 5f. What additional feature would you expect to see on the *k*-mer depth spectrum described in Question 5e if the bee had been a heterozygous diploid? (2 marks)"
   ]
  },
  {
   "cell_type": "markdown",
   "metadata": {
    "deletable": false,
    "nbgrader": {
     "cell_type": "markdown",
     "checksum": "8105231fd242b5b86b63885b610cffbd",
     "grade": true,
     "grade_id": "cell-381903c4ab50f8bf",
     "locked": false,
     "points": 2,
     "schema_version": 3,
     "solution": true,
     "task": false
    }
   },
   "source": [
    "YOUR ANSWER HERE\n",
    "```\n",
    "If the bee had been a heterozygous diploid, aside from the peak at depth of 40, we also expect to see another peak at around depth of 20, which is lower than the peak at depth of 40. \n",
    "```"
   ]
  }
 ],
 "metadata": {
  "kernelspec": {
   "display_name": "Python 3",
   "language": "python",
   "name": "python3"
  },
  "language_info": {
   "codemirror_mode": {
    "name": "ipython",
    "version": 3
   },
   "file_extension": ".py",
   "mimetype": "text/x-python",
   "name": "python",
   "nbconvert_exporter": "python",
   "pygments_lexer": "ipython3",
   "version": "3.7.6"
  }
 },
 "nbformat": 4,
 "nbformat_minor": 4
}
